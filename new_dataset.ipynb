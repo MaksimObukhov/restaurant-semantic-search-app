{
 "cells": [
  {
   "cell_type": "code",
   "execution_count": 6,
   "outputs": [],
   "source": [
    "%reset"
   ],
   "metadata": {
    "collapsed": false,
    "ExecuteTime": {
     "end_time": "2023-12-08T19:00:04.760200Z",
     "start_time": "2023-12-08T19:00:03.325195Z"
    }
   },
   "id": "95276d50790a947f"
  },
  {
   "cell_type": "code",
   "execution_count": 7,
   "outputs": [],
   "source": [
    "import pandas as pd"
   ],
   "metadata": {
    "collapsed": false,
    "ExecuteTime": {
     "end_time": "2023-12-08T19:00:04.764214Z",
     "start_time": "2023-12-08T19:00:04.760673Z"
    }
   },
   "id": "initial_id"
  },
  {
   "cell_type": "code",
   "execution_count": 8,
   "outputs": [],
   "source": [
    "reviews = pd.read_csv('data/reviews_postgres.csv')\n",
    "business = pd.read_csv('data/businesses_postgres.csv')"
   ],
   "metadata": {
    "collapsed": false,
    "ExecuteTime": {
     "end_time": "2023-12-08T19:00:06.307451Z",
     "start_time": "2023-12-08T19:00:04.762978Z"
    }
   },
   "id": "ef260246c7c389f6"
  },
  {
   "cell_type": "code",
   "execution_count": 9,
   "outputs": [],
   "source": [
    "test_business = business.sort_values(by='stars', ascending=False).head(150)\n",
    "# test_reviews = reviews[reviews['business_id'].isin(test_business['business_id'])]"
   ],
   "metadata": {
    "collapsed": false,
    "ExecuteTime": {
     "end_time": "2023-12-08T19:00:06.311695Z",
     "start_time": "2023-12-08T19:00:06.308628Z"
    }
   },
   "id": "7fc37e8bdece2096"
  },
  {
   "cell_type": "code",
   "execution_count": 10,
   "outputs": [],
   "source": [
    "def sample_reviews(group):\n",
    "    return group.sample(min(100, len(group)))\n",
    "\n",
    "# Filter reviews for businesses in 'test_business'\n",
    "test_reviews = reviews[reviews['business_id'].isin(test_business['business_id'])]\n",
    "\n",
    "# Use groupby and apply to sample 100 random reviews per business_id\n",
    "test_reviews = test_reviews.groupby('business_id', group_keys=False).apply(sample_reviews)\n"
   ],
   "metadata": {
    "collapsed": false,
    "ExecuteTime": {
     "end_time": "2023-12-08T19:00:06.333821Z",
     "start_time": "2023-12-08T19:00:06.318115Z"
    }
   },
   "id": "5dc3478b07f9a61c"
  },
  {
   "cell_type": "code",
   "execution_count": 10,
   "outputs": [],
   "source": [],
   "metadata": {
    "collapsed": false,
    "ExecuteTime": {
     "end_time": "2023-12-08T19:00:06.342100Z",
     "start_time": "2023-12-08T19:00:06.333156Z"
    }
   },
   "id": "e8e5dc6151205a24"
  }
 ],
 "metadata": {
  "kernelspec": {
   "display_name": "Python 3",
   "language": "python",
   "name": "python3"
  },
  "language_info": {
   "codemirror_mode": {
    "name": "ipython",
    "version": 2
   },
   "file_extension": ".py",
   "mimetype": "text/x-python",
   "name": "python",
   "nbconvert_exporter": "python",
   "pygments_lexer": "ipython2",
   "version": "2.7.6"
  }
 },
 "nbformat": 4,
 "nbformat_minor": 5
}
