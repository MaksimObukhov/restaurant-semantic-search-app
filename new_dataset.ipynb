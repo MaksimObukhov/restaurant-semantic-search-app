{
 "cells": [
  {
   "cell_type": "code",
   "execution_count": 17,
   "outputs": [],
   "source": [
    "%reset"
   ],
   "metadata": {
    "collapsed": false,
    "ExecuteTime": {
     "end_time": "2023-12-10T17:34:24.102436Z",
     "start_time": "2023-12-10T17:34:22.625302Z"
    }
   },
   "id": "95276d50790a947f"
  },
  {
   "cell_type": "code",
   "execution_count": 18,
   "outputs": [],
   "source": [
    "import pandas as pd"
   ],
   "metadata": {
    "collapsed": false,
    "ExecuteTime": {
     "end_time": "2023-12-10T17:34:24.106951Z",
     "start_time": "2023-12-10T17:34:24.103127Z"
    }
   },
   "id": "initial_id"
  },
  {
   "cell_type": "code",
   "execution_count": 19,
   "outputs": [],
   "source": [
    "reviews = pd.read_csv('data/reviews_postgres.csv')\n",
    "business = pd.read_csv('data/businesses_postgres.csv')"
   ],
   "metadata": {
    "collapsed": false,
    "ExecuteTime": {
     "end_time": "2023-12-10T17:34:25.693865Z",
     "start_time": "2023-12-10T17:34:24.105263Z"
    }
   },
   "id": "ef260246c7c389f6"
  },
  {
   "cell_type": "code",
   "execution_count": 20,
   "outputs": [],
   "source": [
    "# Draw top 150 businesses by star rating\n",
    "test_business = business.sort_values(by='stars', ascending=False).head(150)"
   ],
   "metadata": {
    "collapsed": false,
    "ExecuteTime": {
     "end_time": "2023-12-10T17:34:25.698149Z",
     "start_time": "2023-12-10T17:34:25.695024Z"
    }
   },
   "id": "7fc37e8bdece2096"
  },
  {
   "cell_type": "code",
   "execution_count": 21,
   "outputs": [],
   "source": [
    "def sample_reviews(group):\n",
    "    return group.sample(min(50, len(group)))\n",
    "\n",
    "# Filter reviews for businesses in 'test_business'\n",
    "test_reviews = reviews[reviews['business_id'].isin(test_business['business_id'])]\n",
    "\n",
    "# Use groupby and apply to sample 100 random reviews per business_id\n",
    "test_reviews = test_reviews.groupby('business_id', group_keys=False).apply(sample_reviews)\n"
   ],
   "metadata": {
    "collapsed": false,
    "ExecuteTime": {
     "end_time": "2023-12-10T17:34:25.721602Z",
     "start_time": "2023-12-10T17:34:25.703550Z"
    }
   },
   "id": "5dc3478b07f9a61c"
  },
  {
   "cell_type": "code",
   "execution_count": 25,
   "outputs": [],
   "source": [
    "# test_reviews.to_csv('data/test_reviews.csv', index=False)"
   ],
   "metadata": {
    "collapsed": false,
    "ExecuteTime": {
     "end_time": "2023-12-10T17:36:52.080242Z",
     "start_time": "2023-12-10T17:36:52.006173Z"
    }
   },
   "id": "68ac965f04d45884"
  },
  {
   "cell_type": "code",
   "execution_count": 22,
   "outputs": [],
   "source": [
    "category_descriptions = {\n",
    "    \"Client loyalty & Recommendations\": \"Will the client come back? Will he recommend it? Overall good/satisfied.\",\n",
    "    \"Food Taste & Quality Opinions\": \"Food was tasty? Delicious? Fresh? Healthy foo?\",\n",
    "    \"Opinions about specific dishes\": \"Was a chicken tasty? Was spaghetti ok? Were grilled vegetables crispy? Was the dessert fabulous? And other opinions about specific dishes you can think of.\",\n",
    "    \"Food Variety & Selection Opinions\": \"Vegetarian menu? Vegan options? Gluten-free options? Good wine/drinks selection? Good beer selection? Rich menu?\",\n",
    "    \"Addons Opinions\": \"Wifi - is it free, fast? Does parking have lots of spaces? Pet-friendly? Is suitable for a wheelchair? Is there good ventilation, AC? And other addon opinions.\",\n",
    "    \"Price/Payment Opinions\": \"Was it overpriced, worth them money? Cheap, expensive? Only cash payment?\",\n",
    "    \"Vibe Opinions\": \"Nice vibe? Cozy, relaxing atmosphere? Pleasant? Unpleasant vibe? Was it not welcoming? Was the decor nice? Interior outdated? And other vibe opinions.\",\n",
    "}"
   ],
   "metadata": {
    "collapsed": false,
    "ExecuteTime": {
     "end_time": "2023-12-10T17:34:25.721820Z",
     "start_time": "2023-12-10T17:34:25.718485Z"
    }
   },
   "id": "e8e5dc6151205a24"
  },
  {
   "cell_type": "code",
   "execution_count": 29,
   "outputs": [],
   "source": [
    "batch_review = test_reviews.iloc[:5]['text'].to_list()\n",
    "joined_review = \"-------------------\".join(batch_review)"
   ],
   "metadata": {
    "collapsed": false,
    "ExecuteTime": {
     "end_time": "2023-12-10T18:09:04.118687Z",
     "start_time": "2023-12-10T18:09:04.111077Z"
    }
   },
   "id": "8e6c9b1c45cb2164"
  },
  {
   "cell_type": "code",
   "execution_count": 24,
   "outputs": [],
   "source": [
    "prompt = f\"\"\"\n",
    "Your task is to generate a short summary of a restaurant \\\n",
    "review to give feedback to the restaurant owner.\n",
    "\n",
    "Summarize the multiple reviews below, delimited by triple \\\n",
    "backticks (```), in at most 10 sentences, and focusing on any aspects \\\n",
    "that mention client loyalty & recommendations, food taste & quality, \\\\\n",
    "opinions about specific dishes, food variety & selection, addons, \\\n",
    "price/payment, and vibe.\n",
    "\n",
    "Reviews: {joined_review}\n",
    "\"\"\""
   ],
   "metadata": {
    "collapsed": false,
    "ExecuteTime": {
     "end_time": "2023-12-10T17:34:25.727365Z",
     "start_time": "2023-12-10T17:34:25.722581Z"
    }
   },
   "id": "50e4ea50c7f9e2d0"
  },
  {
   "cell_type": "code",
   "execution_count": 28,
   "outputs": [
    {
     "name": "stdout",
     "output_type": "stream",
     "text": [
      "Great selection of food here. While the normal groceries are a bit pricy, the specialty Korean food is delicious. My absolute favorite is the Korean beef tacos. Only complaint is today I called ahead and when I got there 20 minutes later they had not even started to prepare my food yet.\n",
      "-------------------\n",
      "Hue is my favorite spot for food off campus. Their Korean tacos are delicious and the chicken teriyaki is the best around. I have tried a lot of their other food and it's all good. All of the staff are really friendly. I'd recommend any Temple student check out Hue.\n",
      "-------------------\n",
      "Says they close at 8:30 at the door and 9 on Yelp . Neither are true . False information = 1 Star\n",
      "-------------------\n",
      "In the area for the day. Was in the mood for spicy ramen noodles and chicken wings. Was able to get both right here. Noodle bowl was loaded with veggies and chicken. I'd definitely get the wings again. Thinking about going back later for a hoagie or some sushi.\n",
      "-------------------\n",
      "This place is a hidden gem! I was craving sushi while up near Temple Main Campus and hopped on Yelp to see what was around. I thought it was a lost cause, but I found this little market and it did not disappoint...for the most part. The staff was friendly and made my sushi to order. It was pretty fresh (am I really in a corner market ordering sushi?) and came out quickly. They have a nice selection of bottled juices, so I also picked up a gingery apple cider vinegar concoction that was refreshing. \n",
      "\n",
      "They have snacks, household staples, a deli, and other Asian food products here too if that's what you're looking for. I was just zeroed in on the sushi. \n",
      "\n",
      "My only complaint is the soy sauce. It has wheat in it and I have a sensitivity to gluten so shortly after my two rolls doused in the stuff, I felt like a house. I couldn't even eat dinner that night. It's my own fault for allowing myself a cheat meal and not looking closely at the packaging, but honestly why is there wheat in your soy sauce? I checked other brands and found nothing, so it must be a filler?\n",
      "\n",
      "Next time, I'll skip the soy sauce. Overall, solid place though!\n",
      "-------------------\n"
     ]
    }
   ],
   "source": [
    "for batch in batch_review:\n",
    "    print(batch)\n",
    "    print('-------------------')"
   ],
   "metadata": {
    "collapsed": false,
    "ExecuteTime": {
     "end_time": "2023-12-10T18:08:20.163978Z",
     "start_time": "2023-12-10T18:08:20.156251Z"
    }
   },
   "id": "3ea7bee687297b49"
  },
  {
   "cell_type": "code",
   "execution_count": null,
   "outputs": [],
   "source": [],
   "metadata": {
    "collapsed": false
   },
   "id": "1664d70cea899e9a"
  }
 ],
 "metadata": {
  "kernelspec": {
   "display_name": "Python 3",
   "language": "python",
   "name": "python3"
  },
  "language_info": {
   "codemirror_mode": {
    "name": "ipython",
    "version": 2
   },
   "file_extension": ".py",
   "mimetype": "text/x-python",
   "name": "python",
   "nbconvert_exporter": "python",
   "pygments_lexer": "ipython2",
   "version": "2.7.6"
  }
 },
 "nbformat": 4,
 "nbformat_minor": 5
}
