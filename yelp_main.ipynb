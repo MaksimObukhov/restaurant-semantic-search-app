{
 "cells": [
  {
   "cell_type": "code",
   "execution_count": 68,
   "outputs": [],
   "source": [
    "%reset"
   ],
   "metadata": {
    "collapsed": false,
    "ExecuteTime": {
     "end_time": "2023-11-22T17:40:49.530869Z",
     "start_time": "2023-11-22T17:40:47.399004Z"
    }
   },
   "id": "3e0c3f3a06eb227c"
  },
  {
   "cell_type": "code",
   "execution_count": 69,
   "outputs": [],
   "source": [
    "import pandas as pd\n",
    "import numpy as np\n",
    "import json"
   ],
   "metadata": {
    "collapsed": false,
    "ExecuteTime": {
     "end_time": "2023-11-22T17:40:49.531160Z",
     "start_time": "2023-11-22T17:40:49.527758Z"
    }
   },
   "id": "1c96c780ed902ef7"
  },
  {
   "cell_type": "code",
   "execution_count": 70,
   "outputs": [],
   "source": [
    "business_data = json.load(open(\"yelp_dataset/yelp_filtered_philadelphia_business.json\"))\n",
    "\n",
    "# Create a DataFrame for business data\n",
    "business_df = pd.DataFrame(business_data)\n",
    "\n",
    "# Flatten the nested \"attributes\" column\n",
    "business_attributes = pd.json_normalize(business_df['attributes'])\n",
    "business_attributes.columns = [f'attributes.{col}' for col in business_attributes.columns]\n",
    "\n",
    "business_hours = pd.json_normalize(business_df['hours'])\n",
    "business_hours.columns = [f'WorkingHours.{col}' for col in business_hours.columns]\n",
    "\n",
    "\n",
    "# Concatenate the flattened attributes DataFrame with the original business DataFrame\n",
    "business_df = pd.concat([business_df, business_attributes], axis=1)\n",
    "business_df = pd.concat([business_df, business_hours], axis=1)\n",
    "\n",
    "# Drop the original nested \"attributes\" column\n",
    "business_df = business_df.drop('attributes', axis=1)\n",
    "business_df = business_df.drop('hours', axis=1)"
   ],
   "metadata": {
    "collapsed": false,
    "ExecuteTime": {
     "end_time": "2023-11-22T17:40:49.614326Z",
     "start_time": "2023-11-22T17:40:49.530388Z"
    }
   },
   "id": "3c9d76c495c33bf9"
  },
  {
   "cell_type": "code",
   "execution_count": 71,
   "outputs": [],
   "source": [
    "review_data = json.load(open(\"yelp_dataset/yelp_filtered_philadelphia_reviews.json\"))\n",
    "review_df = pd.DataFrame(review_data)"
   ],
   "metadata": {
    "collapsed": false,
    "ExecuteTime": {
     "end_time": "2023-11-22T17:40:51.580006Z",
     "start_time": "2023-11-22T17:40:49.606295Z"
    }
   },
   "id": "5b548989ee65a396"
  },
  {
   "cell_type": "markdown",
   "source": [
    "### Each review is unique"
   ],
   "metadata": {
    "collapsed": false
   },
   "id": "44bf57830faa52a2"
  },
  {
   "cell_type": "code",
   "execution_count": 72,
   "outputs": [
    {
     "data": {
      "text/plain": "0"
     },
     "execution_count": 72,
     "metadata": {},
     "output_type": "execute_result"
    }
   ],
   "source": [
    "review_df[\"review_id\"].duplicated().sum()"
   ],
   "metadata": {
    "collapsed": false,
    "ExecuteTime": {
     "end_time": "2023-11-22T17:40:51.667924Z",
     "start_time": "2023-11-22T17:40:51.656723Z"
    }
   },
   "id": "ca6d822b2a3b9980"
  },
  {
   "cell_type": "code",
   "execution_count": 73,
   "outputs": [
    {
     "data": {
      "text/plain": "1    4372\n0    2704\nName: is_open, dtype: int64"
     },
     "execution_count": 73,
     "metadata": {},
     "output_type": "execute_result"
    }
   ],
   "source": [
    "business_df[\"is_open\"].value_counts()"
   ],
   "metadata": {
    "collapsed": false,
    "ExecuteTime": {
     "end_time": "2023-11-22T17:40:51.668266Z",
     "start_time": "2023-11-22T17:40:51.660505Z"
    }
   },
   "id": "3801ed0ba5c76f15"
  },
  {
   "cell_type": "markdown",
   "source": [
    "### Filter permanently closed businesses"
   ],
   "metadata": {
    "collapsed": false
   },
   "id": "d152cd96c032332d"
  },
  {
   "cell_type": "code",
   "execution_count": 74,
   "outputs": [],
   "source": [
    "business_df = business_df[business_df[\"is_open\"] == 1]"
   ],
   "metadata": {
    "collapsed": false,
    "ExecuteTime": {
     "end_time": "2023-11-22T17:40:51.677067Z",
     "start_time": "2023-11-22T17:40:51.662951Z"
    }
   },
   "id": "c5c8185845124770"
  },
  {
   "cell_type": "code",
   "execution_count": 75,
   "outputs": [],
   "source": [
    "business_df.drop(columns=[\"city\", \"state\", \"latitude\", \"longitude\", \"is_open\"], inplace=True)\n",
    "review_df.drop(columns=[\"user_id\", \"date\"], inplace=True)"
   ],
   "metadata": {
    "collapsed": false,
    "ExecuteTime": {
     "end_time": "2023-11-22T17:40:51.736768Z",
     "start_time": "2023-11-22T17:40:51.680184Z"
    }
   },
   "id": "faa43b137b05394a"
  },
  {
   "cell_type": "markdown",
   "source": [
    "### Filter reviews for businesses that are still open"
   ],
   "metadata": {
    "collapsed": false
   },
   "id": "5cd5d52d8df98f3"
  },
  {
   "cell_type": "code",
   "execution_count": 76,
   "outputs": [],
   "source": [
    "review_df = review_df[review_df[\"business_id\"].isin(business_df[\"business_id\"])]"
   ],
   "metadata": {
    "collapsed": false,
    "ExecuteTime": {
     "end_time": "2023-11-22T17:40:51.822393Z",
     "start_time": "2023-11-22T17:40:51.778697Z"
    }
   },
   "id": "5a18a234baaf43ae"
  },
  {
   "cell_type": "markdown",
   "source": [
    "### Fill closed days"
   ],
   "metadata": {
    "collapsed": false
   },
   "id": "1c55d12654282aca"
  },
  {
   "cell_type": "code",
   "execution_count": 77,
   "outputs": [],
   "source": [
    "# Fill \"closed\" if not all columns are empty\n",
    "def fill_closed(row):\n",
    "    if row.isnull().all():\n",
    "        return row\n",
    "    else:\n",
    "        return row.fillna(\"closed\")\n",
    "\n",
    "# Selecting only the columns related to working hours\n",
    "working_hours_columns = [f'WorkingHours.{day}' for day in [\"Monday\", \"Tuesday\", \"Wednesday\", \"Thursday\", \"Friday\", \"Saturday\", \"Sunday\"]]\n",
    "\n",
    "# Applying the custom function to the selected columns\n",
    "business_df[working_hours_columns] = business_df[working_hours_columns].apply(fill_closed, axis=1)\n"
   ],
   "metadata": {
    "collapsed": false,
    "ExecuteTime": {
     "end_time": "2023-11-22T17:40:52.043075Z",
     "start_time": "2023-11-22T17:40:51.842419Z"
    }
   },
   "id": "3d32bb82b3a6040f"
  },
  {
   "cell_type": "code",
   "execution_count": 78,
   "outputs": [
    {
     "name": "stdout",
     "output_type": "stream",
     "text": [
      "Number of rows: 4372\n"
     ]
    },
    {
     "data": {
      "text/plain": "business_id                                 0\nname                                        0\naddress                                     0\npostal_code                                 0\nstars                                       0\nreview_count                                0\ncategories                                  0\nattributes.RestaurantsDelivery            559\nattributes.OutdoorSeating                1380\nattributes.BusinessAcceptsCreditCards     524\nattributes.BusinessParking                640\nattributes.BikeParking                   1218\nattributes.RestaurantsPriceRange2         859\nattributes.RestaurantsTakeOut             368\nattributes.ByAppointmentOnly             4021\nattributes.WiFi                          1498\nattributes.Alcohol                       1703\nattributes.Caters                        1621\nattributes.RestaurantsReservations       1564\nattributes.RestaurantsGoodForGroups      1753\nattributes.RestaurantsAttire             1983\nattributes.HasTV                         1573\nattributes.Ambience                      1620\nattributes.GoodForKids                   1795\nattributes.GoodForMeal                   2276\nattributes.NoiseLevel                    2075\nattributes.DogsAllowed                   3364\nattributes.HappyHour                     3343\nattributes.WheelchairAccessible          3118\nattributes.RestaurantsTableService       2940\nattributes.Smoking                       4086\nattributes.Music                         3904\nattributes.GoodForDancing                4078\nattributes.BusinessAcceptsBitcoin        3718\nattributes.CoatCheck                     4053\nattributes.BestNights                    3970\nattributes.DriveThru                     3940\nattributes.Corkage                       3952\nattributes.BYOBCorkage                   4123\nattributes.BYOB                          3953\nattributes.Open24Hours                   4369\nattributes.AcceptsInsurance              4367\nattributes.AgesAllowed                   4363\nattributes.DietaryRestrictions           4371\nattributes.RestaurantsCounterService     4370\nWorkingHours.Monday                       615\nWorkingHours.Tuesday                      615\nWorkingHours.Wednesday                    615\nWorkingHours.Thursday                     615\nWorkingHours.Friday                       615\nWorkingHours.Saturday                     615\nWorkingHours.Sunday                       615\ndtype: int64"
     },
     "execution_count": 78,
     "metadata": {},
     "output_type": "execute_result"
    }
   ],
   "source": [
    "print(f\"Number of rows: {business_df.shape[0]}\")\n",
    "business_df.isna().sum()"
   ],
   "metadata": {
    "collapsed": false,
    "ExecuteTime": {
     "end_time": "2023-11-22T17:40:52.063604Z",
     "start_time": "2023-11-22T17:40:52.057247Z"
    }
   },
   "id": "b0c4ae9332b3b91"
  },
  {
   "cell_type": "code",
   "execution_count": 79,
   "outputs": [],
   "source": [
    "# Drop attributes columns\n",
    "business_df = business_df.drop(business_df.filter(like='attributes').columns, axis=1)"
   ],
   "metadata": {
    "collapsed": false,
    "ExecuteTime": {
     "end_time": "2023-11-22T17:40:52.083892Z",
     "start_time": "2023-11-22T17:40:52.061178Z"
    }
   },
   "id": "e4a77a7f31f47f77"
  },
  {
   "cell_type": "code",
   "execution_count": 80,
   "outputs": [
    {
     "name": "stdout",
     "output_type": "stream",
     "text": [
      "Number of rows: 4372\n"
     ]
    },
    {
     "data": {
      "text/plain": "business_id                 0\nname                        0\naddress                     0\npostal_code                 0\nstars                       0\nreview_count                0\ncategories                  0\nWorkingHours.Monday       615\nWorkingHours.Tuesday      615\nWorkingHours.Wednesday    615\nWorkingHours.Thursday     615\nWorkingHours.Friday       615\nWorkingHours.Saturday     615\nWorkingHours.Sunday       615\ndtype: int64"
     },
     "execution_count": 80,
     "metadata": {},
     "output_type": "execute_result"
    }
   ],
   "source": [
    "print(f\"Number of rows: {business_df.shape[0]}\")\n",
    "business_df.isna().sum()"
   ],
   "metadata": {
    "collapsed": false,
    "ExecuteTime": {
     "end_time": "2023-11-22T17:40:52.087722Z",
     "start_time": "2023-11-22T17:40:52.075676Z"
    }
   },
   "id": "9c45dfed8019f458"
  },
  {
   "cell_type": "code",
   "execution_count": 81,
   "outputs": [
    {
     "name": "stdout",
     "output_type": "stream",
     "text": [
      "4.0    1139\n",
      "4.5     859\n",
      "3.5     853\n",
      "3.0     552\n",
      "2.5     374\n",
      "2.0     251\n",
      "5.0     197\n",
      "1.5     117\n",
      "1.0      30\n",
      "Name: stars, dtype: int64\n"
     ]
    },
    {
     "data": {
      "text/plain": "<Axes: >"
     },
     "execution_count": 81,
     "metadata": {},
     "output_type": "execute_result"
    },
    {
     "data": {
      "text/plain": "<Figure size 640x480 with 1 Axes>",
      "image/png": "[encoded data removed]"
     },
     "metadata": {},
     "output_type": "display_data"
    }
   ],
   "source": [
    "print(business_df[\"stars\"].value_counts())\n",
    "business_df[\"stars\"].hist()"
   ],
   "metadata": {
    "collapsed": false,
    "ExecuteTime": {
     "end_time": "2023-11-22T17:40:52.137760Z",
     "start_time": "2023-11-22T17:40:52.081076Z"
    }
   },
   "id": "75d71635df53eb49"
  },
  {
   "cell_type": "code",
   "execution_count": 82,
   "outputs": [
    {
     "name": "stdout",
     "output_type": "stream",
     "text": [
      "5    234953\n",
      "4    150610\n",
      "3     68269\n",
      "1     52162\n",
      "2     41800\n",
      "Name: stars, dtype: int64\n"
     ]
    },
    {
     "data": {
      "text/plain": "<Axes: >"
     },
     "execution_count": 82,
     "metadata": {},
     "output_type": "execute_result"
    },
    {
     "data": {
      "text/plain": "<Figure size 640x480 with 1 Axes>",
      "image/png": "[encoded data removed]"
     },
     "metadata": {},
     "output_type": "display_data"
    }
   ],
   "source": [
    "print(review_df[\"stars\"].value_counts())\n",
    "review_df[\"stars\"].hist()"
   ],
   "metadata": {
    "collapsed": false,
    "ExecuteTime": {
     "end_time": "2023-11-22T17:40:52.278884Z",
     "start_time": "2023-11-22T17:40:52.139202Z"
    }
   },
   "id": "d1d727195ef47e18"
  },
  {
   "cell_type": "code",
   "execution_count": 83,
   "outputs": [
    {
     "data": {
      "text/plain": "ytynqOUb3hjKeJfRj5Tshw    5778\nPP3BBaVxZLcJU54uP_wL6Q    4293\nIkY2ticzHEn4QFn8hQLSWg    3428\n9PZxjhTIU7OgPIzuGi89Ew    3264\nctHjyadbDQAtUFfkcAFEHw    3173\n                          ... \nk6BLeAGKHZqzp2qhmVjlQg       5\nAhBeA8m8iNP_b5jRORMlyg       5\n39Vq4--74ljOpcFqn6vbGw       5\nyAwSBNIaS2OaRcwuPTJOoQ       5\nBEuGzy5gxtGyOEk8iwDfTg       5\nName: business_id, Length: 4372, dtype: int64"
     },
     "execution_count": 83,
     "metadata": {},
     "output_type": "execute_result"
    }
   ],
   "source": [
    "review_df[\"business_id\"].value_counts()"
   ],
   "metadata": {
    "collapsed": false,
    "ExecuteTime": {
     "end_time": "2023-11-22T17:40:52.321385Z",
     "start_time": "2023-11-22T17:40:52.306099Z"
    }
   },
   "id": "1d6ad0ee0c2b971e"
  },
  {
   "cell_type": "code",
   "execution_count": 83,
   "outputs": [],
   "source": [],
   "metadata": {
    "collapsed": false,
    "ExecuteTime": {
     "end_time": "2023-11-22T17:40:52.321496Z",
     "start_time": "2023-11-22T17:40:52.311482Z"
    }
   },
   "id": "379bd9fd7bb9880b"
  }
 ],
 "metadata": {
  "kernelspec": {
   "display_name": "Python 3",
   "language": "python",
   "name": "python3"
  },
  "language_info": {
   "codemirror_mode": {
    "name": "ipython",
    "version": 2
   },
   "file_extension": ".py",
   "mimetype": "text/x-python",
   "name": "python",
   "nbconvert_exporter": "python",
   "pygments_lexer": "ipython2",
   "version": "2.7.6"
  }
 },
 "nbformat": 4,
 "nbformat_minor": 5
}
