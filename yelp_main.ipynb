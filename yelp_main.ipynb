{
 "cells": [
  {
   "cell_type": "code",
   "execution_count": 1,
   "outputs": [],
   "source": [
    "import pandas as pd\n",
    "import json"
   ],
   "metadata": {
    "collapsed": false,
    "ExecuteTime": {
     "end_time": "2023-11-22T13:46:36.276728Z",
     "start_time": "2023-11-22T13:46:35.919185Z"
    }
   },
   "id": "1c96c780ed902ef7"
  },
  {
   "cell_type": "code",
   "execution_count": 3,
   "outputs": [],
   "source": [
    "business_data = json.load(open(\"yelp_dataset/yelp_filtered_philadelphia_business.json\"))\n",
    "\n",
    "# Create a DataFrame for business data\n",
    "business_df = pd.DataFrame(business_data)\n",
    "\n",
    "# Flatten the nested \"attributes\" column\n",
    "business_attributes = pd.json_normalize(business_df['attributes'])\n",
    "business_attributes.columns = [f'attributes.{col}' for col in business_attributes.columns]\n",
    "\n",
    "business_hours = pd.json_normalize(business_df['hours'])\n",
    "business_hours.columns = [f'WorkingHours.{col}' for col in business_hours.columns]\n",
    "\n",
    "\n",
    "# Concatenate the flattened attributes DataFrame with the original business DataFrame\n",
    "business_df = pd.concat([business_df, business_attributes], axis=1)\n",
    "business_df = pd.concat([business_df, business_hours], axis=1)\n",
    "\n",
    "# Drop the original nested \"attributes\" column\n",
    "business_df = business_df.drop('attributes', axis=1)\n",
    "business_df = business_df.drop('hours', axis=1)"
   ],
   "metadata": {
    "collapsed": false,
    "ExecuteTime": {
     "end_time": "2023-11-22T13:46:36.450566Z",
     "start_time": "2023-11-22T13:46:36.339649Z"
    }
   },
   "id": "3c9d76c495c33bf9"
  },
  {
   "cell_type": "code",
   "execution_count": 6,
   "outputs": [],
   "source": [
    "review_data = json.load(open(\"yelp_dataset/yelp_filtered_philadelphia_reviews.json\"))\n",
    "review_df = pd.DataFrame(review_data)"
   ],
   "metadata": {
    "collapsed": false,
    "ExecuteTime": {
     "end_time": "2023-11-22T13:50:19.262334Z",
     "start_time": "2023-11-22T13:50:18.497147Z"
    }
   },
   "id": "5b548989ee65a396"
  },
  {
   "cell_type": "markdown",
   "source": [
    "### Each review is unique"
   ],
   "metadata": {
    "collapsed": false
   },
   "id": "44bf57830faa52a2"
  },
  {
   "cell_type": "code",
   "execution_count": 8,
   "outputs": [
    {
     "data": {
      "text/plain": "0"
     },
     "execution_count": 8,
     "metadata": {},
     "output_type": "execute_result"
    }
   ],
   "source": [
    "review_df[\"review_id\"].duplicated().sum()"
   ],
   "metadata": {
    "collapsed": false,
    "ExecuteTime": {
     "end_time": "2023-11-22T14:14:30.138719Z",
     "start_time": "2023-11-22T14:14:30.134427Z"
    }
   },
   "id": "ca6d822b2a3b9980"
  },
  {
   "cell_type": "code",
   "execution_count": 10,
   "outputs": [
    {
     "data": {
      "text/plain": "1    10542\n0     4027\nName: is_open, dtype: int64"
     },
     "execution_count": 10,
     "metadata": {},
     "output_type": "execute_result"
    }
   ],
   "source": [
    "business_df[\"is_open\"].value_counts()"
   ],
   "metadata": {
    "collapsed": false,
    "ExecuteTime": {
     "end_time": "2023-11-22T14:18:06.436520Z",
     "start_time": "2023-11-22T14:18:06.432496Z"
    }
   },
   "id": "3801ed0ba5c76f15"
  },
  {
   "cell_type": "markdown",
   "source": [
    "### Filter permanently closed businesses"
   ],
   "metadata": {
    "collapsed": false
   },
   "id": "d152cd96c032332d"
  },
  {
   "cell_type": "code",
   "execution_count": 11,
   "outputs": [],
   "source": [
    "business_df = business_df[business_df[\"is_open\"] == 1]"
   ],
   "metadata": {
    "collapsed": false,
    "ExecuteTime": {
     "end_time": "2023-11-22T14:19:31.506550Z",
     "start_time": "2023-11-22T14:19:31.479846Z"
    }
   },
   "id": "c5c8185845124770"
  },
  {
   "cell_type": "code",
   "execution_count": 12,
   "outputs": [],
   "source": [
    "business_df.drop(columns=[\"city\", \"state\", \"latitude\", \"longitude\", \"is_open\"], inplace=True)\n",
    "review_df.drop(columns=[\"review_id\", \"user_id\", \"date\"], inplace=True)"
   ],
   "metadata": {
    "collapsed": false,
    "ExecuteTime": {
     "end_time": "2023-11-22T14:20:44.312804Z",
     "start_time": "2023-11-22T14:20:44.249270Z"
    }
   },
   "id": "faa43b137b05394a"
  },
  {
   "cell_type": "markdown",
   "source": [
    "### Filter reviews for businesses that are still open"
   ],
   "metadata": {
    "collapsed": false
   },
   "id": "5cd5d52d8df98f3"
  },
  {
   "cell_type": "code",
   "execution_count": 13,
   "outputs": [],
   "source": [
    "review_df = review_df[review_df[\"business_id\"].isin(business_df[\"business_id\"])]"
   ],
   "metadata": {
    "collapsed": false,
    "ExecuteTime": {
     "end_time": "2023-11-22T14:21:41.999659Z",
     "start_time": "2023-11-22T14:21:41.959360Z"
    }
   },
   "id": "5a18a234baaf43ae"
  },
  {
   "cell_type": "code",
   "execution_count": null,
   "outputs": [],
   "source": [],
   "metadata": {
    "collapsed": false
   },
   "id": "a2ed1d3004d97c6b"
  }
 ],
 "metadata": {
  "kernelspec": {
   "display_name": "Python 3",
   "language": "python",
   "name": "python3"
  },
  "language_info": {
   "codemirror_mode": {
    "name": "ipython",
    "version": 2
   },
   "file_extension": ".py",
   "mimetype": "text/x-python",
   "name": "python",
   "nbconvert_exporter": "python",
   "pygments_lexer": "ipython2",
   "version": "2.7.6"
  }
 },
 "nbformat": 4,
 "nbformat_minor": 5
}
