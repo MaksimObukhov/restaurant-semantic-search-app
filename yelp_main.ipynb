{
 "cells": [
  {
   "cell_type": "code",
   "execution_count": 1,
   "outputs": [],
   "source": [
    "import pandas as pd\n",
    "import json"
   ],
   "metadata": {
    "collapsed": false,
    "ExecuteTime": {
     "end_time": "2023-11-22T13:46:36.276728Z",
     "start_time": "2023-11-22T13:46:35.919185Z"
    }
   },
   "id": "1c96c780ed902ef7"
  },
  {
   "cell_type": "code",
   "execution_count": 3,
   "outputs": [],
   "source": [
    "business_data = json.load(open(\"yelp_dataset/yelp_filtered_philadelphia_business.json\"))\n",
    "\n",
    "# Create a DataFrame for business data\n",
    "business_df = pd.DataFrame(business_data)\n",
    "\n",
    "# Flatten the nested \"attributes\" column\n",
    "business_attributes = pd.json_normalize(business_df['attributes'])\n",
    "business_attributes.columns = [f'attributes.{col}' for col in business_attributes.columns]\n",
    "\n",
    "business_hours = pd.json_normalize(business_df['hours'])\n",
    "business_hours.columns = [f'WorkingHours.{col}' for col in business_hours.columns]\n",
    "\n",
    "\n",
    "# Concatenate the flattened attributes DataFrame with the original business DataFrame\n",
    "business_df = pd.concat([business_df, business_attributes], axis=1)\n",
    "business_df = pd.concat([business_df, business_hours], axis=1)\n",
    "\n",
    "# Drop the original nested \"attributes\" column\n",
    "business_df = business_df.drop('attributes', axis=1)\n",
    "business_df = business_df.drop('hours', axis=1)"
   ],
   "metadata": {
    "collapsed": false,
    "ExecuteTime": {
     "end_time": "2023-11-22T13:46:36.450566Z",
     "start_time": "2023-11-22T13:46:36.339649Z"
    }
   },
   "id": "3c9d76c495c33bf9"
  },
  {
   "cell_type": "code",
   "execution_count": 6,
   "outputs": [],
   "source": [
    "review_data = json.load(open(\"yelp_dataset/yelp_filtered_philadelphia_reviews.json\"))\n",
    "review_df = pd.DataFrame(review_data)"
   ],
   "metadata": {
    "collapsed": false,
    "ExecuteTime": {
     "end_time": "2023-11-22T13:50:19.262334Z",
     "start_time": "2023-11-22T13:50:18.497147Z"
    }
   },
   "id": "5b548989ee65a396"
  },
  {
   "cell_type": "code",
   "execution_count": null,
   "outputs": [],
   "source": [],
   "metadata": {
    "collapsed": false
   },
   "id": "ca6d822b2a3b9980"
  }
 ],
 "metadata": {
  "kernelspec": {
   "display_name": "Python 3",
   "language": "python",
   "name": "python3"
  },
  "language_info": {
   "codemirror_mode": {
    "name": "ipython",
    "version": 2
   },
   "file_extension": ".py",
   "mimetype": "text/x-python",
   "name": "python",
   "nbconvert_exporter": "python",
   "pygments_lexer": "ipython2",
   "version": "2.7.6"
  }
 },
 "nbformat": 4,
 "nbformat_minor": 5
}
