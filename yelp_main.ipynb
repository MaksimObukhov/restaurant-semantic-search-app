{
 "cells": [
  {
   "cell_type": "code",
   "execution_count": 21,
   "outputs": [],
   "source": [
    "import pandas as pd\n",
    "import numpy as np\n",
    "import json"
   ],
   "metadata": {
    "collapsed": false,
    "ExecuteTime": {
     "end_time": "2023-11-22T14:36:28.426095Z",
     "start_time": "2023-11-22T14:36:28.419175Z"
    }
   },
   "id": "1c96c780ed902ef7"
  },
  {
   "cell_type": "code",
   "execution_count": 3,
   "outputs": [],
   "source": [
    "business_data = json.load(open(\"yelp_dataset/yelp_filtered_philadelphia_business.json\"))\n",
    "\n",
    "# Create a DataFrame for business data\n",
    "business_df = pd.DataFrame(business_data)\n",
    "\n",
    "# Flatten the nested \"attributes\" column\n",
    "business_attributes = pd.json_normalize(business_df['attributes'])\n",
    "business_attributes.columns = [f'attributes.{col}' for col in business_attributes.columns]\n",
    "\n",
    "business_hours = pd.json_normalize(business_df['hours'])\n",
    "business_hours.columns = [f'WorkingHours.{col}' for col in business_hours.columns]\n",
    "\n",
    "\n",
    "# Concatenate the flattened attributes DataFrame with the original business DataFrame\n",
    "business_df = pd.concat([business_df, business_attributes], axis=1)\n",
    "business_df = pd.concat([business_df, business_hours], axis=1)\n",
    "\n",
    "# Drop the original nested \"attributes\" column\n",
    "business_df = business_df.drop('attributes', axis=1)\n",
    "business_df = business_df.drop('hours', axis=1)"
   ],
   "metadata": {
    "collapsed": false,
    "ExecuteTime": {
     "end_time": "2023-11-22T13:46:36.450566Z",
     "start_time": "2023-11-22T13:46:36.339649Z"
    }
   },
   "id": "3c9d76c495c33bf9"
  },
  {
   "cell_type": "code",
   "execution_count": 6,
   "outputs": [],
   "source": [
    "review_data = json.load(open(\"yelp_dataset/yelp_filtered_philadelphia_reviews.json\"))\n",
    "review_df = pd.DataFrame(review_data)"
   ],
   "metadata": {
    "collapsed": false,
    "ExecuteTime": {
     "end_time": "2023-11-22T13:50:19.262334Z",
     "start_time": "2023-11-22T13:50:18.497147Z"
    }
   },
   "id": "5b548989ee65a396"
  },
  {
   "cell_type": "markdown",
   "source": [
    "### Each review is unique"
   ],
   "metadata": {
    "collapsed": false
   },
   "id": "44bf57830faa52a2"
  },
  {
   "cell_type": "code",
   "execution_count": 8,
   "outputs": [
    {
     "data": {
      "text/plain": "0"
     },
     "execution_count": 8,
     "metadata": {},
     "output_type": "execute_result"
    }
   ],
   "source": [
    "review_df[\"review_id\"].duplicated().sum()"
   ],
   "metadata": {
    "collapsed": false,
    "ExecuteTime": {
     "end_time": "2023-11-22T14:14:30.138719Z",
     "start_time": "2023-11-22T14:14:30.134427Z"
    }
   },
   "id": "ca6d822b2a3b9980"
  },
  {
   "cell_type": "code",
   "execution_count": 10,
   "outputs": [
    {
     "data": {
      "text/plain": "1    10542\n0     4027\nName: is_open, dtype: int64"
     },
     "execution_count": 10,
     "metadata": {},
     "output_type": "execute_result"
    }
   ],
   "source": [
    "business_df[\"is_open\"].value_counts()"
   ],
   "metadata": {
    "collapsed": false,
    "ExecuteTime": {
     "end_time": "2023-11-22T14:18:06.436520Z",
     "start_time": "2023-11-22T14:18:06.432496Z"
    }
   },
   "id": "3801ed0ba5c76f15"
  },
  {
   "cell_type": "markdown",
   "source": [
    "### Filter permanently closed businesses"
   ],
   "metadata": {
    "collapsed": false
   },
   "id": "d152cd96c032332d"
  },
  {
   "cell_type": "code",
   "execution_count": 11,
   "outputs": [],
   "source": [
    "business_df = business_df[business_df[\"is_open\"] == 1]"
   ],
   "metadata": {
    "collapsed": false,
    "ExecuteTime": {
     "end_time": "2023-11-22T14:19:31.506550Z",
     "start_time": "2023-11-22T14:19:31.479846Z"
    }
   },
   "id": "c5c8185845124770"
  },
  {
   "cell_type": "code",
   "execution_count": 12,
   "outputs": [],
   "source": [
    "business_df.drop(columns=[\"city\", \"state\", \"latitude\", \"longitude\", \"is_open\"], inplace=True)\n",
    "review_df.drop(columns=[\"review_id\", \"user_id\", \"date\"], inplace=True)"
   ],
   "metadata": {
    "collapsed": false,
    "ExecuteTime": {
     "end_time": "2023-11-22T14:20:44.312804Z",
     "start_time": "2023-11-22T14:20:44.249270Z"
    }
   },
   "id": "faa43b137b05394a"
  },
  {
   "cell_type": "markdown",
   "source": [
    "### Filter reviews for businesses that are still open"
   ],
   "metadata": {
    "collapsed": false
   },
   "id": "5cd5d52d8df98f3"
  },
  {
   "cell_type": "code",
   "execution_count": 13,
   "outputs": [],
   "source": [
    "review_df = review_df[review_df[\"business_id\"].isin(business_df[\"business_id\"])]"
   ],
   "metadata": {
    "collapsed": false,
    "ExecuteTime": {
     "end_time": "2023-11-22T14:21:41.999659Z",
     "start_time": "2023-11-22T14:21:41.959360Z"
    }
   },
   "id": "5a18a234baaf43ae"
  },
  {
   "cell_type": "code",
   "execution_count": 17,
   "outputs": [
    {
     "name": "stdout",
     "output_type": "stream",
     "text": [
      "5    234953\n",
      "4    150610\n",
      "3     68269\n",
      "1     52162\n",
      "2     41800\n",
      "Name: stars, dtype: int64\n"
     ]
    },
    {
     "data": {
      "text/plain": "<Axes: >"
     },
     "execution_count": 17,
     "metadata": {},
     "output_type": "execute_result"
    },
    {
     "data": {
      "text/plain": "<Figure size 640x480 with 1 Axes>",
      "image/png": "[encoded data removed]"
     },
     "metadata": {},
     "output_type": "display_data"
    }
   ],
   "source": [
    "print(review_df[\"stars\"].value_counts())\n",
    "review_df[\"stars\"].hist()"
   ],
   "metadata": {
    "collapsed": false,
    "ExecuteTime": {
     "end_time": "2023-11-22T14:26:10.972247Z",
     "start_time": "2023-11-22T14:26:10.879146Z"
    }
   },
   "id": "a2ed1d3004d97c6b"
  },
  {
   "cell_type": "code",
   "execution_count": 27,
   "outputs": [],
   "source": [
    "# Fill \"closed\" if not all columns are empty\n",
    "def fill_closed(row):\n",
    "    if row.isnull().all():\n",
    "        return row\n",
    "    else:\n",
    "        return row.fillna(\"closed\")\n",
    "\n",
    "# Selecting only the columns related to working hours\n",
    "working_hours_columns = [f'WorkingHours.{day}' for day in [\"Monday\", \"Tuesday\", \"Wednesday\", \"Thursday\", \"Friday\", \"Saturday\", \"Sunday\"]]\n",
    "\n",
    "# Applying the custom function to the selected columns\n",
    "business_df[working_hours_columns] = business_df[working_hours_columns].apply(fill_closed, axis=1)\n"
   ],
   "metadata": {
    "collapsed": false,
    "ExecuteTime": {
     "end_time": "2023-11-22T14:39:25.990939Z",
     "start_time": "2023-11-22T14:39:25.305725Z"
    }
   },
   "id": "3d32bb82b3a6040f"
  },
  {
   "cell_type": "code",
   "execution_count": 28,
   "outputs": [
    {
     "name": "stdout",
     "output_type": "stream",
     "text": [
      "Number of rows: 10542\n"
     ]
    },
    {
     "data": {
      "text/plain": "business_id                                  0\nname                                         0\naddress                                      0\npostal_code                                  0\nstars                                        0\nreview_count                                 0\ncategories                                   7\nattributes.RestaurantsDelivery            6552\nattributes.OutdoorSeating                 7345\nattributes.BusinessAcceptsCreditCards     2128\nattributes.BusinessParking                4323\nattributes.BikeParking                    5298\nattributes.RestaurantsPriceRange2         4913\nattributes.RestaurantsTakeOut             6405\nattributes.ByAppointmentOnly              7335\nattributes.WiFi                           6580\nattributes.Alcohol                        7680\nattributes.Caters                         7774\nattributes.RestaurantsReservations        7587\nattributes.RestaurantsGoodForGroups       7727\nattributes.RestaurantsAttire              8140\nattributes.HasTV                          7527\nattributes.Ambience                       7593\nattributes.GoodForKids                    7058\nattributes.GoodForMeal                    8446\nattributes.NoiseLevel                     8049\nattributes.DogsAllowed                    9137\nattributes.HappyHour                      9393\nattributes.WheelchairAccessible           8371\nattributes.RestaurantsTableService        9104\nattributes.Smoking                       10185\nattributes.Music                          9915\nattributes.GoodForDancing                10177\nattributes.BusinessAcceptsBitcoin         9087\nattributes.CoatCheck                     10146\nattributes.BestNights                    10053\nattributes.DriveThru                     10109\nattributes.Corkage                       10112\nattributes.BYOBCorkage                   10293\nattributes.AcceptsInsurance              10113\nattributes.HairSpecializesIn             10435\nattributes.BYOB                          10108\nattributes.Open24Hours                   10534\nattributes.AgesAllowed                   10522\nattributes.DietaryRestrictions           10541\nattributes.RestaurantsCounterService     10540\nWorkingHours.Monday                       1762\nWorkingHours.Tuesday                      1762\nWorkingHours.Wednesday                    1762\nWorkingHours.Thursday                     1762\nWorkingHours.Friday                       1762\nWorkingHours.Saturday                     1762\nWorkingHours.Sunday                       1762\ndtype: int64"
     },
     "execution_count": 28,
     "metadata": {},
     "output_type": "execute_result"
    }
   ],
   "source": [
    "print(f\"Number of rows: {business_df.shape[0]}\")\n",
    "business_df.isna().sum()"
   ],
   "metadata": {
    "collapsed": false,
    "ExecuteTime": {
     "end_time": "2023-11-22T14:39:42.354032Z",
     "start_time": "2023-11-22T14:39:42.350421Z"
    }
   },
   "id": "b0c4ae9332b3b91"
  },
  {
   "cell_type": "code",
   "execution_count": null,
   "outputs": [],
   "source": [],
   "metadata": {
    "collapsed": false
   },
   "id": "e4a77a7f31f47f77"
  }
 ],
 "metadata": {
  "kernelspec": {
   "display_name": "Python 3",
   "language": "python",
   "name": "python3"
  },
  "language_info": {
   "codemirror_mode": {
    "name": "ipython",
    "version": 2
   },
   "file_extension": ".py",
   "mimetype": "text/x-python",
   "name": "python",
   "nbconvert_exporter": "python",
   "pygments_lexer": "ipython2",
   "version": "2.7.6"
  }
 },
 "nbformat": 4,
 "nbformat_minor": 5
}
