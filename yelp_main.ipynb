{
 "cells": [
  {
   "cell_type": "code",
   "execution_count": 1,
   "outputs": [],
   "source": [
    "%reset"
   ],
   "metadata": {
    "collapsed": false,
    "ExecuteTime": {
     "end_time": "2023-11-23T18:22:27.833428Z",
     "start_time": "2023-11-23T18:22:26.332607Z"
    }
   },
   "id": "3e0c3f3a06eb227c"
  },
  {
   "cell_type": "code",
   "execution_count": 2,
   "outputs": [],
   "source": [
    "import pandas as pd\n",
    "import numpy as np\n",
    "import json\n",
    "from sentence_transformers import SentenceTransformer"
   ],
   "metadata": {
    "collapsed": false,
    "ExecuteTime": {
     "end_time": "2023-11-23T18:22:30.505479Z",
     "start_time": "2023-11-23T18:22:27.788330Z"
    }
   },
   "id": "1c96c780ed902ef7"
  },
  {
   "cell_type": "code",
   "execution_count": 3,
   "outputs": [],
   "source": [
    "business_data = json.load(open(\"yelp_dataset/yelp_filtered_philadelphia_business.json\"))\n",
    "\n",
    "# Create a DataFrame for business data\n",
    "business_df = pd.DataFrame(business_data)\n",
    "\n",
    "# Flatten the nested \"attributes\" column\n",
    "business_attributes = pd.json_normalize(business_df['attributes'])\n",
    "business_attributes.columns = [f'attributes.{col}' for col in business_attributes.columns]\n",
    "\n",
    "business_hours = pd.json_normalize(business_df['hours'])\n",
    "business_hours.columns = [f'WorkingHours.{col}' for col in business_hours.columns]\n",
    "\n",
    "\n",
    "# Concatenate the flattened attributes DataFrame with the original business DataFrame\n",
    "business_df = pd.concat([business_df, business_attributes], axis=1)\n",
    "business_df = pd.concat([business_df, business_hours], axis=1)\n",
    "\n",
    "# Drop the original nested \"attributes\" column\n",
    "business_df = business_df.drop('attributes', axis=1)\n",
    "business_df = business_df.drop('hours', axis=1)"
   ],
   "metadata": {
    "collapsed": false,
    "ExecuteTime": {
     "end_time": "2023-11-23T18:22:30.587843Z",
     "start_time": "2023-11-23T18:22:30.506414Z"
    }
   },
   "id": "3c9d76c495c33bf9"
  },
  {
   "cell_type": "code",
   "execution_count": 4,
   "outputs": [],
   "source": [
    "review_data = json.load(open(\"yelp_dataset/yelp_filtered_philadelphia_reviews.json\"))\n",
    "review_df = pd.DataFrame(review_data)"
   ],
   "metadata": {
    "collapsed": false,
    "ExecuteTime": {
     "end_time": "2023-11-23T18:22:32.937820Z",
     "start_time": "2023-11-23T18:22:30.588815Z"
    }
   },
   "id": "5b548989ee65a396"
  },
  {
   "cell_type": "markdown",
   "source": [
    "### Each review is unique"
   ],
   "metadata": {
    "collapsed": false
   },
   "id": "44bf57830faa52a2"
  },
  {
   "cell_type": "code",
   "execution_count": 5,
   "outputs": [
    {
     "data": {
      "text/plain": "0"
     },
     "execution_count": 5,
     "metadata": {},
     "output_type": "execute_result"
    }
   ],
   "source": [
    "review_df[\"review_id\"].duplicated().sum()"
   ],
   "metadata": {
    "collapsed": false,
    "ExecuteTime": {
     "end_time": "2023-11-23T18:22:33.020544Z",
     "start_time": "2023-11-23T18:22:33.013070Z"
    }
   },
   "id": "ca6d822b2a3b9980"
  },
  {
   "cell_type": "code",
   "execution_count": 6,
   "outputs": [
    {
     "data": {
      "text/plain": "1    4372\n0    2704\nName: is_open, dtype: int64"
     },
     "execution_count": 6,
     "metadata": {},
     "output_type": "execute_result"
    }
   ],
   "source": [
    "business_df[\"is_open\"].value_counts()"
   ],
   "metadata": {
    "collapsed": false,
    "ExecuteTime": {
     "end_time": "2023-11-23T18:22:33.021727Z",
     "start_time": "2023-11-23T18:22:33.018948Z"
    }
   },
   "id": "3801ed0ba5c76f15"
  },
  {
   "cell_type": "markdown",
   "source": [
    "### Filter permanently closed businesses"
   ],
   "metadata": {
    "collapsed": false
   },
   "id": "d152cd96c032332d"
  },
  {
   "cell_type": "code",
   "execution_count": 7,
   "outputs": [],
   "source": [
    "business_df = business_df[business_df[\"is_open\"] == 1]"
   ],
   "metadata": {
    "collapsed": false,
    "ExecuteTime": {
     "end_time": "2023-11-23T18:22:33.036160Z",
     "start_time": "2023-11-23T18:22:33.021396Z"
    }
   },
   "id": "c5c8185845124770"
  },
  {
   "cell_type": "code",
   "execution_count": 8,
   "outputs": [],
   "source": [
    "business_df.drop(columns=[\"city\", \"state\", \"latitude\", \"longitude\", \"is_open\"], inplace=True)\n",
    "review_df.drop(columns=[\"user_id\", \"date\"], inplace=True)"
   ],
   "metadata": {
    "collapsed": false,
    "ExecuteTime": {
     "end_time": "2023-11-23T18:22:33.096223Z",
     "start_time": "2023-11-23T18:22:33.037231Z"
    }
   },
   "id": "faa43b137b05394a"
  },
  {
   "cell_type": "markdown",
   "source": [
    "### Filter reviews for businesses that are still open"
   ],
   "metadata": {
    "collapsed": false
   },
   "id": "5cd5d52d8df98f3"
  },
  {
   "cell_type": "code",
   "execution_count": 9,
   "outputs": [],
   "source": [
    "review_df = review_df[review_df[\"business_id\"].isin(business_df[\"business_id\"])]"
   ],
   "metadata": {
    "collapsed": false,
    "ExecuteTime": {
     "end_time": "2023-11-23T18:22:33.186202Z",
     "start_time": "2023-11-23T18:22:33.139327Z"
    }
   },
   "id": "5a18a234baaf43ae"
  },
  {
   "cell_type": "markdown",
   "source": [
    "### Fill closed days"
   ],
   "metadata": {
    "collapsed": false
   },
   "id": "1c55d12654282aca"
  },
  {
   "cell_type": "code",
   "execution_count": 10,
   "outputs": [],
   "source": [
    "# Fill \"closed\" if not all columns are empty\n",
    "def fill_closed(row):\n",
    "    if row.isnull().all():\n",
    "        return row\n",
    "    else:\n",
    "        return row.fillna(\"closed\")\n",
    "\n",
    "# Selecting only the columns related to working hours\n",
    "working_hours_columns = [f'WorkingHours.{day}' for day in [\"Monday\", \"Tuesday\", \"Wednesday\", \"Thursday\", \"Friday\", \"Saturday\", \"Sunday\"]]\n",
    "\n",
    "# Applying the custom function to the selected columns\n",
    "business_df[working_hours_columns] = business_df[working_hours_columns].apply(fill_closed, axis=1)\n"
   ],
   "metadata": {
    "collapsed": false,
    "ExecuteTime": {
     "end_time": "2023-11-23T18:22:33.499717Z",
     "start_time": "2023-11-23T18:22:33.187760Z"
    }
   },
   "id": "3d32bb82b3a6040f"
  },
  {
   "cell_type": "code",
   "execution_count": 11,
   "outputs": [
    {
     "name": "stdout",
     "output_type": "stream",
     "text": [
      "Number of rows: 4372\n"
     ]
    },
    {
     "data": {
      "text/plain": "business_id                                 0\nname                                        0\naddress                                     0\npostal_code                                 0\nstars                                       0\nreview_count                                0\ncategories                                  0\nattributes.RestaurantsDelivery            559\nattributes.OutdoorSeating                1380\nattributes.BusinessAcceptsCreditCards     524\nattributes.BusinessParking                640\nattributes.BikeParking                   1218\nattributes.RestaurantsPriceRange2         859\nattributes.RestaurantsTakeOut             368\nattributes.ByAppointmentOnly             4021\nattributes.WiFi                          1498\nattributes.Alcohol                       1703\nattributes.Caters                        1621\nattributes.RestaurantsReservations       1564\nattributes.RestaurantsGoodForGroups      1753\nattributes.RestaurantsAttire             1983\nattributes.HasTV                         1573\nattributes.Ambience                      1620\nattributes.GoodForKids                   1795\nattributes.GoodForMeal                   2276\nattributes.NoiseLevel                    2075\nattributes.DogsAllowed                   3364\nattributes.HappyHour                     3343\nattributes.WheelchairAccessible          3118\nattributes.RestaurantsTableService       2940\nattributes.Smoking                       4086\nattributes.Music                         3904\nattributes.GoodForDancing                4078\nattributes.BusinessAcceptsBitcoin        3718\nattributes.CoatCheck                     4053\nattributes.BestNights                    3970\nattributes.DriveThru                     3940\nattributes.Corkage                       3952\nattributes.BYOBCorkage                   4123\nattributes.BYOB                          3953\nattributes.Open24Hours                   4369\nattributes.AcceptsInsurance              4367\nattributes.AgesAllowed                   4363\nattributes.DietaryRestrictions           4371\nattributes.RestaurantsCounterService     4370\nWorkingHours.Monday                       615\nWorkingHours.Tuesday                      615\nWorkingHours.Wednesday                    615\nWorkingHours.Thursday                     615\nWorkingHours.Friday                       615\nWorkingHours.Saturday                     615\nWorkingHours.Sunday                       615\ndtype: int64"
     },
     "execution_count": 11,
     "metadata": {},
     "output_type": "execute_result"
    }
   ],
   "source": [
    "print(f\"Number of rows: {business_df.shape[0]}\")\n",
    "business_df.isna().sum()"
   ],
   "metadata": {
    "collapsed": false,
    "ExecuteTime": {
     "end_time": "2023-11-23T18:22:33.540745Z",
     "start_time": "2023-11-23T18:22:33.516902Z"
    }
   },
   "id": "b0c4ae9332b3b91"
  },
  {
   "cell_type": "code",
   "execution_count": 12,
   "outputs": [
    {
     "name": "stdout",
     "output_type": "stream",
     "text": [
      "4.0    1139\n",
      "4.5     859\n",
      "3.5     853\n",
      "3.0     552\n",
      "2.5     374\n",
      "2.0     251\n",
      "5.0     197\n",
      "1.5     117\n",
      "1.0      30\n",
      "Name: stars, dtype: int64\n"
     ]
    },
    {
     "data": {
      "text/plain": "<Axes: >"
     },
     "execution_count": 12,
     "metadata": {},
     "output_type": "execute_result"
    },
    {
     "data": {
      "text/plain": "<Figure size 640x480 with 1 Axes>",
      "image/png": "[encoded data removed]"
     },
     "metadata": {},
     "output_type": "display_data"
    }
   ],
   "source": [
    "print(business_df[\"stars\"].value_counts())\n",
    "business_df[\"stars\"].hist()"
   ],
   "metadata": {
    "collapsed": false,
    "ExecuteTime": {
     "end_time": "2023-11-23T18:22:33.808440Z",
     "start_time": "2023-11-23T18:22:33.523069Z"
    }
   },
   "id": "75d71635df53eb49"
  },
  {
   "cell_type": "markdown",
   "source": [
    "### Filter businesses with less than 20 reviews and less than 3 stars"
   ],
   "metadata": {
    "collapsed": false
   },
   "id": "a1d09e9712baf4e7"
  },
  {
   "cell_type": "code",
   "execution_count": 13,
   "outputs": [],
   "source": [
    "high_score = business_df[business_df[\"stars\"] >= 3.0]\n",
    "high_score = high_score[high_score[\"review_count\"] >= 20]\n",
    "high_score_reviews = review_df[review_df[\"business_id\"].isin(high_score[\"business_id\"])]"
   ],
   "metadata": {
    "collapsed": false,
    "ExecuteTime": {
     "end_time": "2023-11-23T18:22:33.885848Z",
     "start_time": "2023-11-23T18:22:33.801427Z"
    }
   },
   "id": "814a0be57eb43c84"
  },
  {
   "cell_type": "code",
   "execution_count": 14,
   "outputs": [
    {
     "name": "stdout",
     "output_type": "stream",
     "text": [
      "Number of rows: 2510\n"
     ]
    },
    {
     "data": {
      "text/plain": "business_id                                 0\nname                                        0\naddress                                     0\npostal_code                                 0\nstars                                       0\nreview_count                                0\ncategories                                  0\nattributes.RestaurantsDelivery            132\nattributes.OutdoorSeating                 416\nattributes.BusinessAcceptsCreditCards     110\nattributes.BusinessParking                111\nattributes.BikeParking                    362\nattributes.RestaurantsPriceRange2         284\nattributes.RestaurantsTakeOut              61\nattributes.ByAppointmentOnly             2223\nattributes.WiFi                           464\nattributes.Alcohol                        581\nattributes.Caters                         499\nattributes.RestaurantsReservations        568\nattributes.RestaurantsGoodForGroups       680\nattributes.RestaurantsAttire              817\nattributes.HasTV                          521\nattributes.Ambience                       543\nattributes.GoodForKids                    713\nattributes.GoodForMeal                    840\nattributes.NoiseLevel                     735\nattributes.DogsAllowed                   1629\nattributes.HappyHour                     1609\nattributes.WheelchairAccessible          1534\nattributes.RestaurantsTableService       1353\nattributes.Smoking                       2259\nattributes.Music                         2117\nattributes.GoodForDancing                2247\nattributes.BusinessAcceptsBitcoin        1978\nattributes.CoatCheck                     2245\nattributes.BestNights                    2157\nattributes.DriveThru                     2322\nattributes.Corkage                       2155\nattributes.BYOBCorkage                   2288\nattributes.BYOB                          2164\nattributes.Open24Hours                   2507\nattributes.AcceptsInsurance              2509\nattributes.AgesAllowed                   2502\nattributes.DietaryRestrictions           2509\nattributes.RestaurantsCounterService     2508\nWorkingHours.Monday                       136\nWorkingHours.Tuesday                      136\nWorkingHours.Wednesday                    136\nWorkingHours.Thursday                     136\nWorkingHours.Friday                       136\nWorkingHours.Saturday                     136\nWorkingHours.Sunday                       136\ndtype: int64"
     },
     "execution_count": 14,
     "metadata": {},
     "output_type": "execute_result"
    }
   ],
   "source": [
    "print(f\"Number of rows: {high_score.shape[0]}\")\n",
    "high_score.isna().sum()"
   ],
   "metadata": {
    "collapsed": false,
    "ExecuteTime": {
     "end_time": "2023-11-23T18:22:33.892752Z",
     "start_time": "2023-11-23T18:22:33.875980Z"
    }
   },
   "id": "351989e2f82f7fbd"
  },
  {
   "cell_type": "code",
   "execution_count": 15,
   "outputs": [
    {
     "data": {
      "text/plain": "2       1272\n1        837\nNone     285\n3         99\n4         17\nName: attributes.RestaurantsPriceRange2, dtype: int64"
     },
     "execution_count": 15,
     "metadata": {},
     "output_type": "execute_result"
    }
   ],
   "source": [
    "high_score[\"attributes.RestaurantsPriceRange2\"].fillna(\"None\").value_counts()"
   ],
   "metadata": {
    "collapsed": false,
    "ExecuteTime": {
     "end_time": "2023-11-23T18:22:33.904632Z",
     "start_time": "2023-11-23T18:22:33.896437Z"
    }
   },
   "id": "80aaa50ee181b1f2"
  },
  {
   "cell_type": "code",
   "execution_count": 16,
   "outputs": [
    {
     "name": "stdout",
     "output_type": "stream",
     "text": [
      "5    225778\n",
      "4    144178\n",
      "3     62478\n",
      "1     37992\n",
      "2     36018\n",
      "Name: stars, dtype: int64\n"
     ]
    },
    {
     "data": {
      "text/plain": "<Axes: >"
     },
     "execution_count": 16,
     "metadata": {},
     "output_type": "execute_result"
    },
    {
     "data": {
      "text/plain": "<Figure size 640x480 with 1 Axes>",
      "image/png": "[encoded data removed]"
     },
     "metadata": {},
     "output_type": "display_data"
    }
   ],
   "source": [
    "print(high_score_reviews[\"stars\"].value_counts())\n",
    "high_score_reviews[\"stars\"].hist()"
   ],
   "metadata": {
    "collapsed": false,
    "ExecuteTime": {
     "end_time": "2023-11-23T18:22:33.983866Z",
     "start_time": "2023-11-23T18:22:33.904333Z"
    }
   },
   "id": "d1d727195ef47e18"
  },
  {
   "cell_type": "code",
   "execution_count": 17,
   "outputs": [
    {
     "data": {
      "text/plain": "ytynqOUb3hjKeJfRj5Tshw    5778\nPP3BBaVxZLcJU54uP_wL6Q    4293\n9PZxjhTIU7OgPIzuGi89Ew    3264\nctHjyadbDQAtUFfkcAFEHw    3173\n6ajnOk0GcY9xbb5Ocaw8Gw    2974\n                          ... \nNXwEDLZjv8dUqbc5g5dCYg      20\nBdWmI-F_7ajVToqDDL5A4A      20\nQ_pHfuSpVEIVfjJLUSTu3g      20\nvIT19IkXjNd39r55YTeq2w      20\n5Orn19gUeqCgKu5IRYlvpQ      20\nName: business_id, Length: 2510, dtype: int64"
     },
     "execution_count": 17,
     "metadata": {},
     "output_type": "execute_result"
    }
   ],
   "source": [
    "high_score_reviews[\"business_id\"].value_counts()"
   ],
   "metadata": {
    "collapsed": false,
    "ExecuteTime": {
     "end_time": "2023-11-23T18:22:34.032880Z",
     "start_time": "2023-11-23T18:22:34.007987Z"
    }
   },
   "id": "1d6ad0ee0c2b971e"
  },
  {
   "cell_type": "code",
   "execution_count": 18,
   "outputs": [
    {
     "name": "stderr",
     "output_type": "stream",
     "text": [
      "/var/folders/g3/b2rhcsbj74b0r5p3cjff117h0000gn/T/ipykernel_10988/1024516852.py:1: FutureWarning: iteritems is deprecated and will be removed in a future version. Use .items instead.\n",
      "  review_lengths = [len(rev.split(\" \")) for _, rev in high_score_reviews[\"text\"].iteritems()]\n"
     ]
    }
   ],
   "source": [
    "review_lengths = [len(rev.split(\" \")) for _, rev in high_score_reviews[\"text\"].iteritems()]\n",
    "total_length = sum(review_lengths)"
   ],
   "metadata": {
    "collapsed": false,
    "ExecuteTime": {
     "end_time": "2023-11-23T18:22:35.523770Z",
     "start_time": "2023-11-23T18:22:34.025151Z"
    }
   },
   "id": "379bd9fd7bb9880b"
  },
  {
   "cell_type": "code",
   "execution_count": 19,
   "outputs": [
    {
     "data": {
      "text/plain": "<Figure size 640x480 with 1 Axes>",
      "image/png": "[encoded data removed]"
     },
     "metadata": {},
     "output_type": "display_data"
    }
   ],
   "source": [
    "import matplotlib.pyplot as plt\n",
    "\n",
    "# Plotting the distribution with x-axis limit set to 500\n",
    "plt.hist(review_lengths, bins=1000, color='blue', alpha=0.7)\n",
    "plt.title('Distribution of Review Lengths')\n",
    "plt.xlabel('Number of Words in a Review')\n",
    "plt.ylabel('Frequency')\n",
    "plt.xlim(0, 500)  # Set x-axis limit to 500\n",
    "plt.show()\n"
   ],
   "metadata": {
    "collapsed": false,
    "ExecuteTime": {
     "end_time": "2023-11-23T18:22:36.373321Z",
     "start_time": "2023-11-23T18:22:35.566714Z"
    }
   },
   "id": "734e1eb09ecb0ec0"
  },
  {
   "cell_type": "code",
   "execution_count": 20,
   "outputs": [
    {
     "name": "stdout",
     "output_type": "stream",
     "text": [
      "Average review length: 107.45317744903682\n"
     ]
    }
   ],
   "source": [
    "print(f\"Average review length: {total_length / len(review_lengths)}\")"
   ],
   "metadata": {
    "collapsed": false,
    "ExecuteTime": {
     "end_time": "2023-11-23T18:22:36.376546Z",
     "start_time": "2023-11-23T18:22:36.373487Z"
    }
   },
   "id": "7429cfd04e1daf8e"
  },
  {
   "cell_type": "markdown",
   "source": [
    "### Sample 300 reviews per business"
   ],
   "metadata": {
    "collapsed": false
   },
   "id": "10a08b44a3f197dd"
  },
  {
   "cell_type": "code",
   "execution_count": 21,
   "outputs": [],
   "source": [
    "# Set the number of reviews you want to draw per business_id\n",
    "DRAW_CHUNK = 300\n",
    "\n",
    "# Create an empty DataFrame to store the sampled reviews\n",
    "sampled_reviews_df = pd.DataFrame()\n",
    "\n",
    "# Iterate over each business_id and sample reviews\n",
    "for business_id, group in high_score_reviews.groupby(\"business_id\"):\n",
    "    # If the business has fewer than 300 reviews, select all of them\n",
    "    if len(group) <= DRAW_CHUNK:\n",
    "        sampled_reviews_df = pd.concat([sampled_reviews_df, group])\n",
    "    else:\n",
    "        # Randomly sample 300 reviews\n",
    "        sampled_reviews_df = pd.concat([sampled_reviews_df, group.sample(DRAW_CHUNK, random_state=42)])\n"
   ],
   "metadata": {
    "collapsed": false,
    "ExecuteTime": {
     "end_time": "2023-11-23T18:22:54.598606Z",
     "start_time": "2023-11-23T18:22:36.388154Z"
    }
   },
   "id": "e335d09b980d2d1a"
  },
  {
   "cell_type": "code",
   "execution_count": 22,
   "outputs": [
    {
     "data": {
      "text/plain": "-0TffRSXXIlBYVbb5AwfTg    300\nVP8HMhVt-pKmqGNmDW4-TQ    300\nU30ggGzFpXvc2NZYwOW3qg    300\nUQZ4p6xb_7gY7UXHmBzceg    300\nUdcLHHBRIxtelgbKBnhitA    300\n                         ... \njsL0EmA3k75npcRvleq2VA     20\nNXwEDLZjv8dUqbc5g5dCYg     20\nQ_pHfuSpVEIVfjJLUSTu3g     20\nPXWYIvRGnAcxWyPwvXbuDw     20\nyHsG1SuEtB_pTZ9TjvOxrg     20\nName: business_id, Length: 2510, dtype: int64"
     },
     "execution_count": 22,
     "metadata": {},
     "output_type": "execute_result"
    }
   ],
   "source": [
    "sampled_reviews_df[\"business_id\"].value_counts()"
   ],
   "metadata": {
    "collapsed": false,
    "ExecuteTime": {
     "end_time": "2023-11-23T18:22:54.641797Z",
     "start_time": "2023-11-23T18:22:54.636608Z"
    }
   },
   "id": "608b3fbc01317b59"
  },
  {
   "cell_type": "code",
   "execution_count": 23,
   "outputs": [
    {
     "name": "stdout",
     "output_type": "stream",
     "text": [
      "Total token length: 34698806\n",
      "Average review length: 104.11776214123896\n"
     ]
    }
   ],
   "source": [
    "review_lengths = [len(text.split(\" \")) for _, text in sampled_reviews_df[\"text\"].items()]\n",
    "total_length = sum(review_lengths)\n",
    "print(f\"Total token length: {total_length}\",\n",
    "      f\"Average review length: {total_length / len(review_lengths)}\", sep=\"\\n\")"
   ],
   "metadata": {
    "collapsed": false,
    "ExecuteTime": {
     "end_time": "2023-11-23T18:22:55.504293Z",
     "start_time": "2023-11-23T18:22:54.676471Z"
    }
   },
   "id": "c2b7deeae4d16572"
  },
  {
   "cell_type": "markdown",
   "source": [
    "### Perform sentence embedding"
   ],
   "metadata": {
    "collapsed": false
   },
   "id": "37c7fbc212c0e28f"
  },
  {
   "cell_type": "code",
   "execution_count": 24,
   "outputs": [],
   "source": [
    "model_name = 'all-mpnet-base-v2'\n",
    "model = SentenceTransformer(model_name)\n",
    "\n",
    "# all_reviews = sampled_reviews_df[\"text\"].tolist()                             \n",
    "# embeddings = model.encode(all_reviews, show_progress_bar=True)\n",
    "# np_embeddings = np.array(embeddings)"
   ],
   "metadata": {
    "collapsed": false,
    "ExecuteTime": {
     "end_time": "2023-11-23T18:22:55.508519Z",
     "start_time": "2023-11-23T18:22:55.504617Z"
    }
   },
   "id": "4e1aae62c41495cf"
  },
  {
   "cell_type": "markdown",
   "source": [
    "### Load the embeddings"
   ],
   "metadata": {
    "collapsed": false
   },
   "id": "adda82e036993f31"
  },
  {
   "cell_type": "code",
   "execution_count": 25,
   "outputs": [],
   "source": [
    "np_embeddings = np.load(\"embeddings.npy\")"
   ],
   "metadata": {
    "collapsed": false,
    "ExecuteTime": {
     "end_time": "2023-11-23T18:22:56.173269Z",
     "start_time": "2023-11-23T18:22:55.506325Z"
    }
   },
   "id": "294baaca59a1c479"
  },
  {
   "cell_type": "code",
   "execution_count": 26,
   "outputs": [
    {
     "data": {
      "text/plain": "                                       np_embeddings\n0  [-0.041251879185438156, -0.02629106678068638, ...\n1  [-0.01969466358423233, -0.029596231877803802, ...\n2  [0.00347039382904768, 0.053050242364406586, -0...\n3  [-0.06172171235084534, 0.05515433847904205, -0...\n4  [-0.04898210987448692, 0.02106931433081627, -0...",
      "text/html": "<div>\n<style scoped>\n    .dataframe tbody tr th:only-of-type {\n        vertical-align: middle;\n    }\n\n    .dataframe tbody tr th {\n        vertical-align: top;\n    }\n\n    .dataframe thead th {\n        text-align: right;\n    }\n</style>\n<table border=\"1\" class=\"dataframe\">\n  <thead>\n    <tr style=\"text-align: right;\">\n      <th></th>\n      <th>np_embeddings</th>\n    </tr>\n  </thead>\n  <tbody>\n    <tr>\n      <th>0</th>\n      <td>[-0.041251879185438156, -0.02629106678068638, ...</td>\n    </tr>\n    <tr>\n      <th>1</th>\n      <td>[-0.01969466358423233, -0.029596231877803802, ...</td>\n    </tr>\n    <tr>\n      <th>2</th>\n      <td>[0.00347039382904768, 0.053050242364406586, -0...</td>\n    </tr>\n    <tr>\n      <th>3</th>\n      <td>[-0.06172171235084534, 0.05515433847904205, -0...</td>\n    </tr>\n    <tr>\n      <th>4</th>\n      <td>[-0.04898210987448692, 0.02106931433081627, -0...</td>\n    </tr>\n  </tbody>\n</table>\n</div>"
     },
     "execution_count": 26,
     "metadata": {},
     "output_type": "execute_result"
    }
   ],
   "source": [
    "embedding_df = pd.DataFrame({\"np_embeddings\": np_embeddings.tolist()})\n",
    "embedding_df.head()"
   ],
   "metadata": {
    "collapsed": false,
    "ExecuteTime": {
     "end_time": "2023-11-23T18:23:06.492542Z",
     "start_time": "2023-11-23T18:23:06.469593Z"
    }
   },
   "id": "421b0e6b2a07761d"
  },
  {
   "cell_type": "code",
   "execution_count": 27,
   "outputs": [],
   "source": [
    "sampled_reviews_df.reset_index(drop=True, inplace=True)\n",
    "sampled_reviews_df = pd.concat([sampled_reviews_df, embedding_df], axis=1)"
   ],
   "metadata": {
    "collapsed": false,
    "ExecuteTime": {
     "end_time": "2023-11-23T18:23:06.813082Z",
     "start_time": "2023-11-23T18:23:06.492013Z"
    }
   },
   "id": "96d5c766ff44bff0"
  },
  {
   "cell_type": "code",
   "execution_count": 195,
   "outputs": [
    {
     "data": {
      "text/plain": "array(['-0TffRSXXIlBYVbb5AwfTg', '-1B9pP_CrRBJYPICE5WbRA',\n       '-5Rah4ZvWsDu4oilUZxhtw', ..., 'zwd4dyQ5ovnjVojWfAuhMw',\n       'zxRmQ_FWVowh8rlzLCSURQ', 'zz3E7kmJI2r2JseE6LAnrw'], dtype=object)"
     },
     "execution_count": 195,
     "metadata": {},
     "output_type": "execute_result"
    }
   ],
   "source": [
    "sampled_reviews_df[\"business_id\"].unique()"
   ],
   "metadata": {
    "collapsed": false,
    "ExecuteTime": {
     "end_time": "2023-11-23T15:51:18.912737Z",
     "start_time": "2023-11-23T15:51:18.891513Z"
    }
   },
   "id": "d841e74208a7dc3"
  },
  {
   "cell_type": "code",
   "execution_count": null,
   "outputs": [
    {
     "name": "stderr",
     "output_type": "stream",
     "text": [
      "/var/folders/g3/b2rhcsbj74b0r5p3cjff117h0000gn/T/ipykernel_10988/2939611013.py:21: DeprecationWarning: The 'timeout' parameter is deprecated in favor of 'request_timeout'\n",
      "  self.es = Elasticsearch(timeout=30,hosts=\"http://localhost:9200\")\n"
     ]
    }
   ],
   "source": [
    "import elasticsearch\n",
    "from elasticsearch import Elasticsearch\n",
    "from elasticsearch import helpers\n",
    "\n",
    "class Tokenizer(object):\n",
    "    def __init__(self):\n",
    "        self.model = SentenceTransformer(\"all-mpnet-base-v2\")\n",
    "\n",
    "    def get_token(self, documents):\n",
    "        sentences  = [documents]\n",
    "        sentence_embeddings = self.model.encode(sentences)\n",
    "        _ = list(sentence_embeddings.flatten())\n",
    "        encod_np_array = np.array(_)\n",
    "        encod_list = encod_np_array.tolist()\n",
    "        return encod_list\n",
    "    \n",
    "class ElasticSearchImports(object):\n",
    "    def __init__(self, df, index_name='posting'):\n",
    "        self.df = df\n",
    "        self.index_name = index_name\n",
    "        self.es = Elasticsearch(timeout=30,hosts=\"http://localhost:9200\")\n",
    "\n",
    "    def run(self):\n",
    "\n",
    "        elk_data = self.df.to_dict(\"records\")\n",
    "\n",
    "        for job in elk_data:\n",
    "            try:self.es.index(index=self.index_name,body=job)\n",
    "            except Exception as e:pass\n",
    "\n",
    "        return True\n",
    "\n",
    "helper_elk = ElasticSearchImports(df=sampled_reviews_df)\n",
    "helper_elk.run()"
   ],
   "metadata": {
    "collapsed": false,
    "is_executing": true,
    "ExecuteTime": {
     "start_time": "2023-11-23T18:29:53.109880Z"
    }
   },
   "id": "ad0325d2b012ccb0"
  },
  {
   "cell_type": "code",
   "execution_count": null,
   "outputs": [],
   "source": [
    "\n",
    "helper_token = Tokenizer()\n",
    "INPUT = input(\"Enter the Input Query \")\n",
    "token_vector = helper_token.get_token(INPUT)\n",
    "\n",
    "query ={\n",
    "\n",
    "    \"size\":50,\n",
    "    \"_source\": \"Title\",\n",
    "    \"query\":{\n",
    "        \"bool\":{\n",
    "            \"must\":[\n",
    "                {\n",
    "                    \"knn\":{\n",
    "                        \"vectors\":{\n",
    "                            \"vector\":token_vector,\n",
    "                            \"k\":20\n",
    "                        }\n",
    "                    }\n",
    "                }\n",
    "            ]\n",
    "        }\n",
    "    }\n",
    "}\n",
    "es = Elasticsearch(timeout=600, hosts=\"http://localhost:9200\")\n",
    "res = es.search(index='posting',\n",
    "                size=50,\n",
    "                body=query,\n",
    "                request_timeout=55)\n",
    "\n",
    "title = [x['_source']  for x in res['hits']['hits']]\n",
    "title"
   ],
   "metadata": {
    "collapsed": false
   },
   "id": "2369a3508aaebd53"
  }
 ],
 "metadata": {
  "kernelspec": {
   "display_name": "Python 3",
   "language": "python",
   "name": "python3"
  },
  "language_info": {
   "codemirror_mode": {
    "name": "ipython",
    "version": 2
   },
   "file_extension": ".py",
   "mimetype": "text/x-python",
   "name": "python",
   "nbconvert_exporter": "python",
   "pygments_lexer": "ipython2",
   "version": "2.7.6"
  }
 },
 "nbformat": 4,
 "nbformat_minor": 5
}
