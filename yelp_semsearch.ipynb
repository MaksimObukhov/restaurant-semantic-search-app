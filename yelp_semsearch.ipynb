{
 "cells": [
  {
   "cell_type": "code",
   "execution_count": 1,
   "id": "initial_id",
   "metadata": {
    "collapsed": true,
    "ExecuteTime": {
     "end_time": "2023-11-17T16:01:35.224615Z",
     "start_time": "2023-11-17T16:01:34.921692Z"
    }
   },
   "outputs": [],
   "source": [
    "import pandas as pd"
   ]
  },
  {
   "cell_type": "code",
   "execution_count": 10,
   "outputs": [],
   "source": [
    "# df_reviews = pd.read_json(\"yelp_dataset/yelp_academic_dataset_review.json\", lines=True, nrows=100)\n",
    "df_business = pd.read_json(\"yelp_dataset/yelp_academic_dataset_business.json\", lines=True, nrows=10000)"
   ],
   "metadata": {
    "collapsed": false,
    "ExecuteTime": {
     "end_time": "2023-11-17T16:04:43.826049Z",
     "start_time": "2023-11-17T16:04:43.737528Z"
    }
   },
   "id": "52d4c7328da612d3"
  },
  {
   "cell_type": "code",
   "execution_count": 25,
   "outputs": [],
   "source": [
    "def read_json(json_file_path, chunk_size=1000, max_rows=1000000):\n",
    "    # Create an empty DataFrame to store the results\n",
    "    result_df = pd.DataFrame()\n",
    "    \n",
    "    # Iterate over chunks\n",
    "    for chunk_df in pd.read_json(json_file_path, lines=True, chunksize=chunk_size, encoding='utf-8'):\n",
    "        # Filter by city names (replace 'your_city' with the actual city name)\n",
    "        filtered_chunk = chunk_df[chunk_df['city'] == 'Philadelphia']\n",
    "    \n",
    "        # Append the filtered chunk to the result DataFrame\n",
    "        result_df = pd.concat([result_df, filtered_chunk], ignore_index=True)\n",
    "    \n",
    "        # Break the loop if the total number of rows exceeds max_rows\n",
    "        if len(result_df) >= max_rows:\n",
    "            break\n",
    "    return result_df\n",
    "    "
   ],
   "metadata": {
    "collapsed": false,
    "ExecuteTime": {
     "end_time": "2023-11-17T16:19:44.326026Z",
     "start_time": "2023-11-17T16:19:44.310576Z"
    }
   },
   "id": "264c174a54952690"
  },
  {
   "cell_type": "code",
   "execution_count": 26,
   "outputs": [],
   "source": [
    "df_reviews = pd.read_json(\"yelp_dataset/yelp_academic_dataset_review.json\", lines=True, nrows=10000)\n",
    "df_business = read_json(\"yelp_dataset/yelp_academic_dataset_business.json\")"
   ],
   "metadata": {
    "collapsed": false,
    "ExecuteTime": {
     "end_time": "2023-11-17T16:19:47.314592Z",
     "start_time": "2023-11-17T16:19:45.814193Z"
    }
   },
   "id": "c93535f62104d901"
  },
  {
   "cell_type": "code",
   "execution_count": 27,
   "outputs": [
    {
     "data": {
      "text/plain": "Philadelphia    14569\nName: city, dtype: int64"
     },
     "execution_count": 27,
     "metadata": {},
     "output_type": "execute_result"
    }
   ],
   "source": [
    "df_business.city.value_counts()"
   ],
   "metadata": {
    "collapsed": false,
    "ExecuteTime": {
     "end_time": "2023-11-17T16:19:49.418669Z",
     "start_time": "2023-11-17T16:19:49.415254Z"
    }
   },
   "id": "943989bd2f359fa4"
  },
  {
   "cell_type": "code",
   "execution_count": 29,
   "outputs": [],
   "source": [
    "df_business.to_json('yelp_dataset/yelp_filtered_philadelphia_business.json', orient='records')"
   ],
   "metadata": {
    "collapsed": false,
    "ExecuteTime": {
     "end_time": "2023-11-17T16:36:03.896129Z",
     "start_time": "2023-11-17T16:36:03.889680Z"
    }
   },
   "id": "cefbf92868c48dd8"
  },
  {
   "cell_type": "code",
   "execution_count": null,
   "outputs": [],
   "source": [],
   "metadata": {
    "collapsed": false
   },
   "id": "d7fbaa6acd3cb47f"
  }
 ],
 "metadata": {
  "kernelspec": {
   "display_name": "Python 3",
   "language": "python",
   "name": "python3"
  },
  "language_info": {
   "codemirror_mode": {
    "name": "ipython",
    "version": 2
   },
   "file_extension": ".py",
   "mimetype": "text/x-python",
   "name": "python",
   "nbconvert_exporter": "python",
   "pygments_lexer": "ipython2",
   "version": "2.7.6"
  }
 },
 "nbformat": 4,
 "nbformat_minor": 5
}
