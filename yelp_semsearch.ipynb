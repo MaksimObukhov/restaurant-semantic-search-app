{
 "cells": [
  {
   "cell_type": "code",
   "execution_count": 1,
   "id": "initial_id",
   "metadata": {
    "collapsed": true,
    "ExecuteTime": {
     "end_time": "2023-11-17T16:01:35.224615Z",
     "start_time": "2023-11-17T16:01:34.921692Z"
    }
   },
   "outputs": [],
   "source": [
    "import pandas as pd"
   ]
  },
  {
   "cell_type": "code",
   "execution_count": 10,
   "outputs": [],
   "source": [
    "# df_reviews = pd.read_json(\"yelp_dataset/yelp_academic_dataset_review.json\", lines=True, nrows=100)\n",
    "# df_business = pd.read_json(\"yelp_dataset/yelp_academic_dataset_business.json\", lines=True, nrows=10000)"
   ],
   "metadata": {
    "collapsed": false,
    "ExecuteTime": {
     "end_time": "2023-11-17T16:04:43.826049Z",
     "start_time": "2023-11-17T16:04:43.737528Z"
    }
   },
   "id": "52d4c7328da612d3"
  },
  {
   "cell_type": "code",
   "execution_count": 40,
   "outputs": [],
   "source": [
    "def read_json_business(json_file_path, chunk_size=1000):\n",
    "    # Create an empty DataFrame to store the results\n",
    "    result_df = pd.DataFrame()\n",
    "    \n",
    "    # Iterate over chunks\n",
    "    for chunk_df in pd.read_json(json_file_path, lines=True, chunksize=chunk_size, encoding='utf-8'):\n",
    "        # Filter by city names (replace 'your_city' with the actual city name)\n",
    "        filtered_chunk = chunk_df[chunk_df['city'] == 'Philadelphia']\n",
    "    \n",
    "        # Append the filtered chunk to the result DataFrame\n",
    "        result_df = pd.concat([result_df, filtered_chunk], ignore_index=True)\n",
    "    \n",
    "    return result_df\n",
    "    "
   ],
   "metadata": {
    "collapsed": false,
    "ExecuteTime": {
     "end_time": "2023-11-17T18:35:18.887940Z",
     "start_time": "2023-11-17T18:35:18.878531Z"
    }
   },
   "id": "264c174a54952690"
  },
  {
   "cell_type": "code",
   "execution_count": 41,
   "outputs": [],
   "source": [
    "# df_reviews = pd.read_json(\"yelp_dataset/yelp_academic_dataset_review.json\", lines=True, nrows=1000000)\n",
    "# df_business = read_json_business(\"yelp_dataset/yelp_academic_dataset_business.json\")"
   ],
   "metadata": {
    "collapsed": false,
    "ExecuteTime": {
     "end_time": "2023-11-17T18:35:24.836024Z",
     "start_time": "2023-11-17T18:35:23.395112Z"
    }
   },
   "id": "c93535f62104d901"
  },
  {
   "cell_type": "code",
   "execution_count": 42,
   "outputs": [
    {
     "data": {
      "text/plain": "Philadelphia    14569\nName: city, dtype: int64"
     },
     "execution_count": 42,
     "metadata": {},
     "output_type": "execute_result"
    }
   ],
   "source": [
    "df_business.city.value_counts()"
   ],
   "metadata": {
    "collapsed": false,
    "ExecuteTime": {
     "end_time": "2023-11-17T18:35:26.121617Z",
     "start_time": "2023-11-17T18:35:26.115766Z"
    }
   },
   "id": "943989bd2f359fa4"
  },
  {
   "cell_type": "code",
   "execution_count": 29,
   "outputs": [],
   "source": [
    "# df_business.to_json('yelp_dataset/yelp_filtered_philadelphia_business.json', orient='records')"
   ],
   "metadata": {
    "collapsed": false,
    "ExecuteTime": {
     "end_time": "2023-11-17T16:36:03.896129Z",
     "start_time": "2023-11-17T16:36:03.889680Z"
    }
   },
   "id": "cefbf92868c48dd8"
  },
  {
   "cell_type": "code",
   "execution_count": 43,
   "outputs": [],
   "source": [
    "filtered_business = df_business[df_business['categories'].str.contains('Restaurants|Food', na=False)]"
   ],
   "metadata": {
    "collapsed": false,
    "ExecuteTime": {
     "end_time": "2023-11-17T18:35:30.715778Z",
     "start_time": "2023-11-17T18:35:30.703223Z"
    }
   },
   "id": "d7fbaa6acd3cb47f"
  },
  {
   "cell_type": "code",
   "execution_count": 44,
   "outputs": [],
   "source": [
    "def read_json_reviews(json_file_path, ids_business, chunk_size=1000):\n",
    "    # Create an empty DataFrame to store the results\n",
    "    result_df = pd.DataFrame()\n",
    "\n",
    "    # Iterate over chunks\n",
    "    for chunk_df in pd.read_json(json_file_path, lines=True, chunksize=chunk_size, encoding='utf-8'):\n",
    "        # Filter by business IDs in the list\n",
    "        filtered_chunk = chunk_df[chunk_df['business_id'].isin(ids_business)]\n",
    "\n",
    "        # Append the filtered chunk to the result DataFrame\n",
    "        result_df = pd.concat([result_df, filtered_chunk], ignore_index=True)\n",
    "        \n",
    "    return result_df"
   ],
   "metadata": {
    "collapsed": false,
    "ExecuteTime": {
     "end_time": "2023-11-17T18:35:42.400273Z",
     "start_time": "2023-11-17T18:35:42.393001Z"
    }
   },
   "id": "1452d61b3e1f238e"
  },
  {
   "cell_type": "code",
   "execution_count": 45,
   "outputs": [],
   "source": [
    "# ids_business = filtered_business['business_id'].tolist()\n",
    "# filtered_reviews = read_json_reviews(\"yelp_dataset/yelp_academic_dataset_review.json\", ids_business)"
   ],
   "metadata": {
    "collapsed": false,
    "ExecuteTime": {
     "end_time": "2023-11-17T18:39:20.573222Z",
     "start_time": "2023-11-17T18:36:04.402256Z"
    }
   },
   "id": "9da03b6886731d9b"
  },
  {
   "cell_type": "code",
   "execution_count": 46,
   "outputs": [],
   "source": [
    "# filtered_reviews.to_json('yelp_dataset/yelp_filtered_philadelphia_reviews.json', orient='records')"
   ],
   "metadata": {
    "collapsed": false,
    "ExecuteTime": {
     "end_time": "2023-11-17T18:40:54.070884Z",
     "start_time": "2023-11-17T18:40:53.772594Z"
    }
   },
   "id": "e063767fb2ab233a"
  },
  {
   "cell_type": "code",
   "execution_count": 47,
   "outputs": [
    {
     "data": {
      "text/plain": "5    300621\n4    207383\n3     97470\n1     72020\n2     61194\nName: stars, dtype: int64"
     },
     "execution_count": 47,
     "metadata": {},
     "output_type": "execute_result"
    }
   ],
   "source": [
    "filtered_reviews[\"stars\"].value_counts()"
   ],
   "metadata": {
    "collapsed": false,
    "ExecuteTime": {
     "end_time": "2023-11-17T18:45:40.788723Z",
     "start_time": "2023-11-17T18:45:40.771318Z"
    }
   },
   "id": "4af3d68782198786"
  },
  {
   "cell_type": "code",
   "execution_count": null,
   "outputs": [],
   "source": [],
   "metadata": {
    "collapsed": false
   },
   "id": "21a9f08e88d5eb24"
  }
 ],
 "metadata": {
  "kernelspec": {
   "display_name": "Python 3",
   "language": "python",
   "name": "python3"
  },
  "language_info": {
   "codemirror_mode": {
    "name": "ipython",
    "version": 2
   },
   "file_extension": ".py",
   "mimetype": "text/x-python",
   "name": "python",
   "nbconvert_exporter": "python",
   "pygments_lexer": "ipython2",
   "version": "2.7.6"
  }
 },
 "nbformat": 4,
 "nbformat_minor": 5
}
