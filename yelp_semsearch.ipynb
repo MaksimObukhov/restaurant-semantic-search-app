{
 "cells": [
  {
   "cell_type": "code",
   "execution_count": 1,
   "id": "initial_id",
   "metadata": {
    "ExecuteTime": {
     "end_time": "2023-11-17T16:01:35.224615Z",
     "start_time": "2023-11-17T16:01:34.921692Z"
    },
    "collapsed": true
   },
   "outputs": [],
   "source": [
    "import pandas as pd\n",
    "import requests\n",
    "import json\n",
    "import os\n",
    "import time\n",
    "from concurrent.futures import ThreadPoolExecutor"
   ]
  },
  {
   "cell_type": "code",
   "execution_count": 2,
   "id": "52d4c7328da612d3",
   "metadata": {
    "ExecuteTime": {
     "end_time": "2023-11-17T16:04:43.826049Z",
     "start_time": "2023-11-17T16:04:43.737528Z"
    },
    "collapsed": false
   },
   "outputs": [],
   "source": [
    "def read_json(json_file_path, chunk_size=1000, max_rows=1000000):\n",
    "    # Create an empty DataFrame to store the results\n",
    "    result_df = pd.DataFrame()\n",
    "    \n",
    "    # Iterate over chunks\n",
    "    for chunk_df in pd.read_json(json_file_path, lines=True, chunksize=chunk_size, encoding='utf-8'):\n",
    "        # Filter by city names (replace 'your_city' with the actual city name)\n",
    "        filtered_chunk = chunk_df[chunk_df['city'] == 'Philadelphia']\n",
    "    \n",
    "        # Append the filtered chunk to the result DataFrame\n",
    "        result_df = pd.concat([result_df, filtered_chunk], ignore_index=True)\n",
    "    \n",
    "        # Break the loop if the total number of rows exceeds max_rows\n",
    "        if len(result_df) >= max_rows:\n",
    "            break\n",
    "    return result_df"
   ]
  },
  {
   "cell_type": "code",
   "execution_count": 3,
   "metadata": {},
   "outputs": [],
   "source": [
    "# df_reviews = pd.read_json(\"yelp_dataset/yelp_academic_dataset_review.json\", lines=True, nrows=100)\n",
    "# df_business = pd.read_json(\"yelp_dataset/yelp_academic_dataset_business.json\", lines=True, nrows=10000)"
   ]
  },
  {
   "cell_type": "markdown",
   "metadata": {},
   "source": [
    "Im trying to connect it to the json, but im on my local and working with the remote repo directly, so it cant work this way, also the Jupyter Notebook cannot use __file__\n"
   ]
  },
  {
   "cell_type": "code",
   "execution_count": 4,
   "metadata": {},
   "outputs": [
    {
     "name": "stdout",
     "output_type": "stream",
     "text": [
      "Current working directory: C:\\Users\\PC\\AppData\\Local\\Programs\\Microsoft VS Code\n",
      "File path: C:\\Users\\PC\\AppData\\Local\\Programs\\Microsoft VS Code\\yelp_dataset/yelp_academic_dataset_business.json\n",
      "File exists: False\n"
     ]
    }
   ],
   "source": [
    "# If running in a Jupyter notebook cell, use the notebook's path\n",
    "try:\n",
    "    script_dir = os.path.dirname(os.path.abspath(__file__))\n",
    "except NameError:\n",
    "    # If __file__ is not defined (running as a Jupyter notebook cell)\n",
    "    # use the current notebook's directory\n",
    "    script_dir = os.path.abspath(\".\")\n",
    "\n",
    "# Join the script directory with the relative path to the file\n",
    "file_path = os.path.join(script_dir, \"yelp_dataset/yelp_academic_dataset_business.json\")\n",
    "\n",
    "# Print the current working directory and the file path\n",
    "print(\"Current working directory:\", os.getcwd())\n",
    "print(\"File path:\", file_path)\n",
    "\n",
    "# Check if the file exists\n",
    "print(\"File exists:\", os.path.exists(file_path))"
   ]
  },
  {
   "cell_type": "markdown",
   "metadata": {},
   "source": [
    "Loading Businesses in Phili that are restaurants"
   ]
  },
  {
   "cell_type": "code",
   "execution_count": 5,
   "metadata": {},
   "outputs": [
    {
     "name": "stdout",
     "output_type": "stream",
     "text": [
      "Column Names:\n",
      "Index(['id', 'alias', 'name', 'image_url', 'is_closed', 'url', 'review_count',\n",
      "       'categories', 'rating', 'coordinates', 'transactions', 'price',\n",
      "       'location', 'phone', 'display_phone', 'distance'],\n",
      "      dtype='object')\n",
      "Number of Rows: 50\n"
     ]
    }
   ],
   "source": [
    "# Set your Yelp Fusion API key here\n",
    "API_KEY = '7THbPOimsD2p1860GmCA0YPxzRP6D1LgcbzmV9sY1srKXGuspoL0lKzAVAroIDL9g_AKrtBXz_3wQ8kA1r5iAipaFgwgIwSwekcB_2_W-cMBCo20bkd5jKxuYp9XZXYx'\n",
    "\n",
    "# Yelp Fusion API endpoint for business search\n",
    "BUSINESS_ENDPOINT = 'https://api.yelp.com/v3/businesses/search'\n",
    "\n",
    "# Parameters for the API request (you can customize these)\n",
    "search_parameters = {\n",
    "    'term': 'restaurant',\n",
    "    'location': 'Philadelphia',\n",
    "    'limit': 50  # You can adjust this based on your needs\n",
    "}\n",
    "\n",
    "# Set up the headers with the API key for business search\n",
    "headers = {\n",
    "    'Authorization': f'Bearer {API_KEY}'\n",
    "}\n",
    "\n",
    "# Make the API request for business search\n",
    "search_response = requests.get(BUSINESS_ENDPOINT, params=search_parameters, headers=headers)\n",
    "\n",
    "# Check if the request for business search was successful (status code 200)\n",
    "if search_response.status_code == 200:\n",
    "    # Parse the JSON response for business search\n",
    "    businesses_data = search_response.json()\n",
    "\n",
    "    # Create a DataFrame directly from the 'businesses' data\n",
    "    df_businesses = pd.DataFrame(businesses_data['businesses'])\n",
    "\n",
    "    # Print column names\n",
    "    print(\"Column Names:\")\n",
    "    print(df_businesses.columns)\n",
    "\n",
    "    # Print the number of rows\n",
    "    print(f\"Number of Rows: {len(df_businesses)}\")\n",
    "\n",
    "else:\n",
    "    print(f\"Error: {search_response.status_code}, {search_response.text}\")"
   ]
  },
  {
   "cell_type": "code",
   "execution_count": 6,
   "metadata": {},
   "outputs": [
    {
     "data": {
      "text/html": [
       "<div>\n",
       "<style scoped>\n",
       "    .dataframe tbody tr th:only-of-type {\n",
       "        vertical-align: middle;\n",
       "    }\n",
       "\n",
       "    .dataframe tbody tr th {\n",
       "        vertical-align: top;\n",
       "    }\n",
       "\n",
       "    .dataframe thead th {\n",
       "        text-align: right;\n",
       "    }\n",
       "</style>\n",
       "<table border=\"1\" class=\"dataframe\">\n",
       "  <thead>\n",
       "    <tr style=\"text-align: right;\">\n",
       "      <th></th>\n",
       "      <th>id</th>\n",
       "      <th>alias</th>\n",
       "      <th>name</th>\n",
       "      <th>image_url</th>\n",
       "      <th>is_closed</th>\n",
       "      <th>url</th>\n",
       "      <th>review_count</th>\n",
       "      <th>categories</th>\n",
       "      <th>rating</th>\n",
       "      <th>coordinates</th>\n",
       "      <th>transactions</th>\n",
       "      <th>price</th>\n",
       "      <th>location</th>\n",
       "      <th>phone</th>\n",
       "      <th>display_phone</th>\n",
       "      <th>distance</th>\n",
       "    </tr>\n",
       "  </thead>\n",
       "  <tbody>\n",
       "    <tr>\n",
       "      <th>0</th>\n",
       "      <td>6ajnOk0GcY9xbb5Ocaw8Gw</td>\n",
       "      <td>barbuzzo-philadelphia</td>\n",
       "      <td>Barbuzzo</td>\n",
       "      <td>https://s3-media2.fl.yelpcdn.com/bphoto/DORymf...</td>\n",
       "      <td>False</td>\n",
       "      <td>https://www.yelp.com/biz/barbuzzo-philadelphia...</td>\n",
       "      <td>3216</td>\n",
       "      <td>[{'alias': 'mediterranean', 'title': 'Mediterr...</td>\n",
       "      <td>4.5</td>\n",
       "      <td>{'latitude': 39.94999, 'longitude': -75.16216}</td>\n",
       "      <td>[delivery]</td>\n",
       "      <td>$$</td>\n",
       "      <td>{'address1': '110 S 13th St', 'address2': '', ...</td>\n",
       "      <td>+12155469300</td>\n",
       "      <td>(215) 546-9300</td>\n",
       "      <td>6942.869179</td>\n",
       "    </tr>\n",
       "    <tr>\n",
       "      <th>1</th>\n",
       "      <td>iksVwRfpWymIUUFqw0tXpw</td>\n",
       "      <td>chubby-cattle-philadelphia-5</td>\n",
       "      <td>Chubby Cattle</td>\n",
       "      <td>https://s3-media3.fl.yelpcdn.com/bphoto/gFMPEE...</td>\n",
       "      <td>False</td>\n",
       "      <td>https://www.yelp.com/biz/chubby-cattle-philade...</td>\n",
       "      <td>1485</td>\n",
       "      <td>[{'alias': 'chinese', 'title': 'Chinese'}, {'a...</td>\n",
       "      <td>4.5</td>\n",
       "      <td>{'latitude': 39.95498, 'longitude': -75.15622}</td>\n",
       "      <td>[pickup, delivery, restaurant_reservation]</td>\n",
       "      <td>$$</td>\n",
       "      <td>{'address1': '146 N 10th St', 'address2': '', ...</td>\n",
       "      <td>+18666228853</td>\n",
       "      <td>(866) 622-8853</td>\n",
       "      <td>6197.631405</td>\n",
       "    </tr>\n",
       "    <tr>\n",
       "      <th>2</th>\n",
       "      <td>i_FWONQD1ZBqrNE2b-M5Ug</td>\n",
       "      <td>talulas-garden-philadelphia</td>\n",
       "      <td>Talula's Garden</td>\n",
       "      <td>https://s3-media3.fl.yelpcdn.com/bphoto/dMuRtB...</td>\n",
       "      <td>False</td>\n",
       "      <td>https://www.yelp.com/biz/talulas-garden-philad...</td>\n",
       "      <td>2223</td>\n",
       "      <td>[{'alias': 'newamerican', 'title': 'New Americ...</td>\n",
       "      <td>4.5</td>\n",
       "      <td>{'latitude': 39.9473272217862, 'longitude': -7...</td>\n",
       "      <td>[delivery]</td>\n",
       "      <td>$$$</td>\n",
       "      <td>{'address1': '210 W Washington Sq', 'address2'...</td>\n",
       "      <td>+12155927787</td>\n",
       "      <td>(215) 592-7787</td>\n",
       "      <td>6835.442846</td>\n",
       "    </tr>\n",
       "    <tr>\n",
       "      <th>3</th>\n",
       "      <td>vUrTGX_7HxqeoQ_6QCVz6g</td>\n",
       "      <td>suraya-philadelphia-2</td>\n",
       "      <td>Suraya</td>\n",
       "      <td>https://s3-media1.fl.yelpcdn.com/bphoto/H6vumh...</td>\n",
       "      <td>False</td>\n",
       "      <td>https://www.yelp.com/biz/suraya-philadelphia-2...</td>\n",
       "      <td>1443</td>\n",
       "      <td>[{'alias': 'lebanese', 'title': 'Lebanese'}, {...</td>\n",
       "      <td>4.5</td>\n",
       "      <td>{'latitude': 39.9736865005167, 'longitude': -7...</td>\n",
       "      <td>[delivery]</td>\n",
       "      <td>$$$</td>\n",
       "      <td>{'address1': '1528 Frankford Ave', 'address2':...</td>\n",
       "      <td>+12153021900</td>\n",
       "      <td>(215) 302-1900</td>\n",
       "      <td>3471.867459</td>\n",
       "    </tr>\n",
       "    <tr>\n",
       "      <th>4</th>\n",
       "      <td>v45E6gg6MrAziTepkiWByA</td>\n",
       "      <td>harpers-garden-philadelphia</td>\n",
       "      <td>Harper's Garden</td>\n",
       "      <td>https://s3-media4.fl.yelpcdn.com/bphoto/NqyB3E...</td>\n",
       "      <td>False</td>\n",
       "      <td>https://www.yelp.com/biz/harpers-garden-philad...</td>\n",
       "      <td>727</td>\n",
       "      <td>[{'alias': 'newamerican', 'title': 'New Americ...</td>\n",
       "      <td>4.0</td>\n",
       "      <td>{'latitude': 39.9523171, 'longitude': -75.1700...</td>\n",
       "      <td>[delivery]</td>\n",
       "      <td>$$</td>\n",
       "      <td>{'address1': '31 S 18th St', 'address2': '', '...</td>\n",
       "      <td>+12678868552</td>\n",
       "      <td>(267) 886-8552</td>\n",
       "      <td>7112.873384</td>\n",
       "    </tr>\n",
       "  </tbody>\n",
       "</table>\n",
       "</div>"
      ],
      "text/plain": [
       "                       id                         alias             name  \\\n",
       "0  6ajnOk0GcY9xbb5Ocaw8Gw         barbuzzo-philadelphia         Barbuzzo   \n",
       "1  iksVwRfpWymIUUFqw0tXpw  chubby-cattle-philadelphia-5    Chubby Cattle   \n",
       "2  i_FWONQD1ZBqrNE2b-M5Ug   talulas-garden-philadelphia  Talula's Garden   \n",
       "3  vUrTGX_7HxqeoQ_6QCVz6g         suraya-philadelphia-2           Suraya   \n",
       "4  v45E6gg6MrAziTepkiWByA   harpers-garden-philadelphia  Harper's Garden   \n",
       "\n",
       "                                           image_url  is_closed  \\\n",
       "0  https://s3-media2.fl.yelpcdn.com/bphoto/DORymf...      False   \n",
       "1  https://s3-media3.fl.yelpcdn.com/bphoto/gFMPEE...      False   \n",
       "2  https://s3-media3.fl.yelpcdn.com/bphoto/dMuRtB...      False   \n",
       "3  https://s3-media1.fl.yelpcdn.com/bphoto/H6vumh...      False   \n",
       "4  https://s3-media4.fl.yelpcdn.com/bphoto/NqyB3E...      False   \n",
       "\n",
       "                                                 url  review_count  \\\n",
       "0  https://www.yelp.com/biz/barbuzzo-philadelphia...          3216   \n",
       "1  https://www.yelp.com/biz/chubby-cattle-philade...          1485   \n",
       "2  https://www.yelp.com/biz/talulas-garden-philad...          2223   \n",
       "3  https://www.yelp.com/biz/suraya-philadelphia-2...          1443   \n",
       "4  https://www.yelp.com/biz/harpers-garden-philad...           727   \n",
       "\n",
       "                                          categories  rating  \\\n",
       "0  [{'alias': 'mediterranean', 'title': 'Mediterr...     4.5   \n",
       "1  [{'alias': 'chinese', 'title': 'Chinese'}, {'a...     4.5   \n",
       "2  [{'alias': 'newamerican', 'title': 'New Americ...     4.5   \n",
       "3  [{'alias': 'lebanese', 'title': 'Lebanese'}, {...     4.5   \n",
       "4  [{'alias': 'newamerican', 'title': 'New Americ...     4.0   \n",
       "\n",
       "                                         coordinates  \\\n",
       "0     {'latitude': 39.94999, 'longitude': -75.16216}   \n",
       "1     {'latitude': 39.95498, 'longitude': -75.15622}   \n",
       "2  {'latitude': 39.9473272217862, 'longitude': -7...   \n",
       "3  {'latitude': 39.9736865005167, 'longitude': -7...   \n",
       "4  {'latitude': 39.9523171, 'longitude': -75.1700...   \n",
       "\n",
       "                                 transactions price  \\\n",
       "0                                  [delivery]    $$   \n",
       "1  [pickup, delivery, restaurant_reservation]    $$   \n",
       "2                                  [delivery]   $$$   \n",
       "3                                  [delivery]   $$$   \n",
       "4                                  [delivery]    $$   \n",
       "\n",
       "                                            location         phone  \\\n",
       "0  {'address1': '110 S 13th St', 'address2': '', ...  +12155469300   \n",
       "1  {'address1': '146 N 10th St', 'address2': '', ...  +18666228853   \n",
       "2  {'address1': '210 W Washington Sq', 'address2'...  +12155927787   \n",
       "3  {'address1': '1528 Frankford Ave', 'address2':...  +12153021900   \n",
       "4  {'address1': '31 S 18th St', 'address2': '', '...  +12678868552   \n",
       "\n",
       "    display_phone     distance  \n",
       "0  (215) 546-9300  6942.869179  \n",
       "1  (866) 622-8853  6197.631405  \n",
       "2  (215) 592-7787  6835.442846  \n",
       "3  (215) 302-1900  3471.867459  \n",
       "4  (267) 886-8552  7112.873384  "
      ]
     },
     "execution_count": 6,
     "metadata": {},
     "output_type": "execute_result"
    }
   ],
   "source": [
    "df_businesses.head()"
   ]
  },
  {
   "cell_type": "code",
   "execution_count": 7,
   "metadata": {},
   "outputs": [],
   "source": [
    "# Extract business IDs from df_businesses\n",
    "business_ids = df_businesses['id'].tolist()"
   ]
  },
  {
   "cell_type": "markdown",
   "metadata": {},
   "source": [
    "ok business id is a concrete ENDPOINT for the API call, so i have to call 50 times for 50 businesses, there is no mapping involved. Lets try again"
   ]
  },
  {
   "cell_type": "markdown",
   "metadata": {},
   "source": [
    "That is alot for the API to handle, so we are using a delay between requests, also 500 calls for 1 endpoint per hour and 25 000 per day."
   ]
  },
  {
   "cell_type": "code",
   "execution_count": 11,
   "metadata": {},
   "outputs": [
    {
     "name": "stdout",
     "output_type": "stream",
     "text": [
      "Error loading reviews for business ctHjyadbDQAtUFfkcAFEHw: 429, {\"error\": {\"code\": \"TOO_MANY_REQUESTS_PER_SECOND\", \"description\": \"You have exceeded the queries-per-second limit for this endpoint. Try reducing the rate at which you make queries.\"}}\n",
      "Error loading reviews for business Ipkx4Sa7ybn8C6LtTqTztw: 429, {\"error\": {\"code\": \"TOO_MANY_REQUESTS_PER_SECOND\", \"description\": \"You have exceeded the queries-per-second limit for this endpoint. Try reducing the rate at which you make queries.\"}}\n",
      "Error loading reviews for business 4NYZ-PHH7GDgjfIO7_Vfgg: 429, {\"error\": {\"code\": \"TOO_MANY_REQUESTS_PER_SECOND\", \"description\": \"You have exceeded the queries-per-second limit for this endpoint. Try reducing the rate at which you make queries.\"}}\n",
      "Error loading reviews for business HTgKfmmlzgE43trhntv8-w: 429, {\"error\": {\"code\": \"TOO_MANY_REQUESTS_PER_SECOND\", \"description\": \"You have exceeded the queries-per-second limit for this endpoint. Try reducing the rate at which you make queries.\"}}\n",
      "Error loading reviews for business AGlh4ZDv6jnoiYfz7At9mw: 429, {\"error\": {\"code\": \"TOO_MANY_REQUESTS_PER_SECOND\", \"description\": \"You have exceeded the queries-per-second limit for this endpoint. Try reducing the rate at which you make queries.\"}}\n",
      "Error loading reviews for business OoFCe8VbzzCr88SGC08omw: 429, {\"error\": {\"code\": \"TOO_MANY_REQUESTS_PER_SECOND\", \"description\": \"You have exceeded the queries-per-second limit for this endpoint. Try reducing the rate at which you make queries.\"}}\n",
      "Error loading reviews for business 0o8k654DD4h8ywBOXP1GRA: 429, {\"error\": {\"code\": \"ACCESS_LIMIT_REACHED\", \"description\": \"You've reached the access limit for this client. See instructions for requesting a higher access limit at https://docs.developer.yelp.com/docs/fusion-rate-limiting\"}}\n",
      "Error loading reviews for business 7pAgxBMUjrVPH7xh3fn-gw: 429, {\"error\": {\"code\": \"ACCESS_LIMIT_REACHED\", \"description\": \"You've reached the access limit for this client. See instructions for requesting a higher access limit at https://docs.developer.yelp.com/docs/fusion-rate-limiting\"}}\n",
      "Error loading reviews for business KYPhGJIibu_7ePIX4HNs6A: 429, {\"error\": {\"code\": \"ACCESS_LIMIT_REACHED\", \"description\": \"You've reached the access limit for this client. See instructions for requesting a higher access limit at https://docs.developer.yelp.com/docs/fusion-rate-limiting\"}}\n"
     ]
    }
   ],
   "source": [
    "# Yelp Fusion API endpoint for business reviews\n",
    "REVIEWS_ENDPOINT = 'https://api.yelp.com/v3/businesses/{business_id}/reviews'\n",
    "\n",
    "# Maximum number of reviews to fetch per business\n",
    "max_reviews_per_business = 100  # Adjust this value based on the API limit\n",
    "\n",
    "# List to store review data\n",
    "all_reviews = []\n",
    "\n",
    "# Function to fetch reviews for a business ID\n",
    "def get_reviews(business_id):\n",
    "    reviews_response = requests.get(REVIEWS_ENDPOINT.format(business_id=business_id), headers=headers, params={'limit': max_reviews_per_business})\n",
    "    \n",
    "    if reviews_response.status_code == 200:\n",
    "        reviews_data = reviews_response.json()\n",
    "        \n",
    "        # Extract and append reviews to the list\n",
    "        business_reviews = reviews_data.get('reviews', [])\n",
    "        return business_reviews\n",
    "    else:\n",
    "        print(f\"Error loading reviews for business {business_id}: {reviews_response.status_code}, {reviews_response.text}\")\n",
    "        return []\n",
    "\n",
    "# Introduce a delay between requests\n",
    "delay_between_requests = 10000  # You can adjust this value based on your needs\n",
    "\n",
    "# Use ThreadPoolExecutor to parallelize the API requests\n",
    "with ThreadPoolExecutor(max_workers=5) as executor:  # You can adjust max_workers based on your needs\n",
    "    # Map the function over the list of business IDs\n",
    "    all_reviews = list(executor.map(get_reviews, business_ids))\n",
    "    # Introduce a delay between requests\n",
    "    time.sleep(delay_between_requests)\n",
    "\n",
    "# Flatten the list of lists into a single list of reviews\n",
    "all_reviews = [review for sublist in all_reviews for review in sublist]\n",
    "\n",
    "# Create a DataFrame from the list of reviews\n",
    "df_reviews = pd.DataFrame(all_reviews)\n"
   ]
  },
  {
   "cell_type": "code",
   "execution_count": 10,
   "metadata": {},
   "outputs": [
    {
     "name": "stdout",
     "output_type": "stream",
     "text": [
      "\n",
      "Reviews DataFrame:\n",
      "Column Names:\n",
      "RangeIndex(start=0, stop=0, step=1)\n",
      "Number of Rows: 0\n",
      "\n",
      "First Few Rows of Reviews DataFrame:\n",
      "Empty DataFrame\n",
      "Columns: []\n",
      "Index: []\n"
     ]
    }
   ],
   "source": [
    "# Print column names and number of rows for the reviews DataFrame\n",
    "print(\"\\nReviews DataFrame:\")\n",
    "print(\"Column Names:\")\n",
    "print(df_reviews.columns)\n",
    "print(f\"Number of Rows: {len(df_reviews)}\")\n",
    "\n",
    "# Display the first few rows of the reviews DataFrame\n",
    "print(\"\\nFirst Few Rows of Reviews DataFrame:\")\n",
    "print(df_reviews.head())"
   ]
  },
  {
   "cell_type": "markdown",
   "metadata": {},
   "source": [
    "SOMETHING"
   ]
  },
  {
   "cell_type": "code",
   "execution_count": 7,
   "id": "943989bd2f359fa4",
   "metadata": {
    "ExecuteTime": {
     "end_time": "2023-11-17T16:19:49.418669Z",
     "start_time": "2023-11-17T16:19:49.415254Z"
    },
    "collapsed": false
   },
   "outputs": [
    {
     "ename": "NameError",
     "evalue": "name 'df_business' is not defined",
     "output_type": "error",
     "traceback": [
      "\u001b[1;31m---------------------------------------------------------------------------\u001b[0m",
      "\u001b[1;31mNameError\u001b[0m                                 Traceback (most recent call last)",
      "\u001b[1;32mMaksimObukhov\\semantic_search_restaurant\\yelp_semsearch.ipynb Cell 5\u001b[0m line \u001b[0;36m1\n\u001b[1;32m----> <a href='vscode-notebook-cell://github/MaksimObukhov/semantic_search_restaurant/yelp_semsearch.ipynb#W4sdnNjb2RlLXZmcw%3D%3D?line=0'>1</a>\u001b[0m df_business\u001b[39m.\u001b[39mcity\u001b[39m.\u001b[39mvalue_counts()\n",
      "\u001b[1;31mNameError\u001b[0m: name 'df_business' is not defined"
     ]
    }
   ],
   "source": [
    "df_business.city.value_counts()"
   ]
  },
  {
   "cell_type": "code",
   "execution_count": 29,
   "id": "cefbf92868c48dd8",
   "metadata": {
    "ExecuteTime": {
     "end_time": "2023-11-17T16:36:03.896129Z",
     "start_time": "2023-11-17T16:36:03.889680Z"
    },
    "collapsed": false
   },
   "outputs": [],
   "source": [
    "df_business.to_json('yelp_dataset/yelp_filtered_philadelphia_business.json', orient='records')"
   ]
  },
  {
   "cell_type": "code",
   "execution_count": null,
   "id": "d7fbaa6acd3cb47f",
   "metadata": {
    "collapsed": false
   },
   "outputs": [],
   "source": []
  }
 ],
 "metadata": {
  "kernelspec": {
   "display_name": "Python 3",
   "language": "python",
   "name": "python3"
  },
  "language_info": {
   "codemirror_mode": {
    "name": "ipython",
    "version": 3
   },
   "file_extension": ".py",
   "mimetype": "text/x-python",
   "name": "python",
   "nbconvert_exporter": "python",
   "pygments_lexer": "ipython3",
   "version": "3.11.2"
  }
 },
 "nbformat": 4,
 "nbformat_minor": 5
}
