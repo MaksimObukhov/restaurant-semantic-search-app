{
 "cells": [
  {
   "cell_type": "code",
   "execution_count": 1,
   "id": "initial_id",
   "metadata": {
    "collapsed": true,
    "ExecuteTime": {
     "end_time": "2023-11-01T18:42:35.839290Z",
     "start_time": "2023-11-01T18:42:35.532449Z"
    }
   },
   "outputs": [],
   "source": [
    "import pandas as pd"
   ]
  },
  {
   "cell_type": "code",
   "execution_count": 3,
   "outputs": [],
   "source": [
    "df_reviews = pd.read_json(\"yelp_dataset/yelp_academic_dataset_review.json\", lines=True, nrows=100)\n",
    "df_business = pd.read_json(\"yelp_dataset/yelp_academic_dataset_business.json\", lines=True, nrows=100)"
   ],
   "metadata": {
    "collapsed": false,
    "ExecuteTime": {
     "end_time": "2023-11-01T18:45:07.958514Z",
     "start_time": "2023-11-01T18:45:07.939316Z"
    }
   },
   "id": "52d4c7328da612d3"
  },
  {
   "cell_type": "code",
   "execution_count": 2,
   "outputs": [],
   "source": [
    "#"
   ],
   "metadata": {
    "collapsed": false,
    "ExecuteTime": {
     "end_time": "2023-11-01T18:42:35.852466Z",
     "start_time": "2023-11-01T18:42:35.849730Z"
    }
   },
   "id": "264c174a54952690"
  }
 ],
 "metadata": {
  "kernelspec": {
   "display_name": "Python 3",
   "language": "python",
   "name": "python3"
  },
  "language_info": {
   "codemirror_mode": {
    "name": "ipython",
    "version": 2
   },
   "file_extension": ".py",
   "mimetype": "text/x-python",
   "name": "python",
   "nbconvert_exporter": "python",
   "pygments_lexer": "ipython2",
   "version": "2.7.6"
  }
 },
 "nbformat": 4,
 "nbformat_minor": 5
}
